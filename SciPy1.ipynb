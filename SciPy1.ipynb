{
 "cells": [
  {
   "cell_type": "code",
   "execution_count": 91,
   "metadata": {
    "collapsed": false
   },
   "outputs": [
    {
     "data": {
      "text/plain": [
       "'\\nToday we are going to review the basics of Python, including some of its\\nspecial built-in objects. We will also study other SciPy packages useful\\nfor data analysis. These include NumPy (\"Numerical Python\"), which helps\\nanalyze numerical data with many-dimensional tables called arrays, and\\nmatplotlib (\"Matlab Plot Library\"), which helps visualize data with various\\nplotting tools. We will go through examples of Python code, as well as\\nwrite our own scripts. At the end of the day, we will do a mini-analysis\\nthat puts all those skills together.\\n\\nWe will have a morning session and an afternoon session, each of which\\nwill have a fifteen-minute break in the middle. Bathrooms are located _,\\nand please no eating and drinking in the conference room(?).\\n\\nHere\\'s our tentative schedule:\\n9am-10:30am   Introduction to Jupyter Notebooks. Introduction to basic\\n              Python syntax (data types, if/else statements, for/while\\n              loops, indexing, string slicing). \\n\\n10:45am-12pm  Introduction to more advanced data types (dictionaries,\\n              lists, sets) and their functionality. Introduction to\\n              importing packages. Brief introduction to NumPy. \\n\\n1:30pm-3pm    Introduction to functions. Introduction to matplotlib.\\n              We\\'ll start to learn what\\'s cool in our IMDB data by\\n              making plots of movie popularity.\\n\\n3:15pm-5pm    Mini-analysis of the IMDB data set.\\n\\n\\nI have given each person a green post-it note and a red post-it note. As\\nwe are going through the material, if you have finished the tutorial task,\\nput up your green post-it note to let me know. If you are confused about\\nthe task, put up your red post-it note. In addition, if you have a question\\nor for any reason want to talk to someone about the tutorial material, feel\\nfree to raise your hand to ask me or one of the tutorial volunteers for\\nassistance. That\\'s what we\\'re here for!\\n'"
      ]
     },
     "execution_count": 91,
     "metadata": {},
     "output_type": "execute_result"
    }
   ],
   "source": [
    "#\n",
    "# SciPy Teen Track Morning Session\n",
    "# Part 1 (Before Break)\n",
    "# Emily Quinn Finney\n",
    "#\n",
    "\n",
    "# Introduction\n",
    "# Time estimate: 10 min\n",
    "\"\"\"\n",
    "Today we are going to review the basics of Python, including some of its\n",
    "special built-in objects. We will also study other SciPy packages useful\n",
    "for data analysis. These include NumPy (\"Numerical Python\"), which helps\n",
    "analyze numerical data with many-dimensional tables called arrays, and\n",
    "matplotlib (\"Matlab Plot Library\"), which helps visualize data with various\n",
    "plotting tools. We will go through examples of Python code, as well as\n",
    "write our own scripts. At the end of the day, we will do a mini-analysis\n",
    "that puts all those skills together.\n",
    "\n",
    "We will have a morning session and an afternoon session, each of which\n",
    "will have a fifteen-minute break in the middle. Bathrooms are located _,\n",
    "and please no eating and drinking in the conference room(?).\n",
    "\n",
    "Here's our tentative schedule:\n",
    "9am-10:30am   Introduction to Jupyter Notebooks. Introduction to basic\n",
    "              Python syntax (data types, if/else statements, for/while\n",
    "              loops, indexing, string slicing). \n",
    "\n",
    "10:45am-12pm  Introduction to more advanced data types (dictionaries,\n",
    "              lists, sets) and their functionality. Introduction to\n",
    "              importing packages. Brief introduction to NumPy. \n",
    "\n",
    "1:30pm-3pm    Introduction to functions. Introduction to matplotlib.\n",
    "              We'll start to learn what's cool in our IMDB data by\n",
    "              making plots of movie popularity.\n",
    "\n",
    "3:15pm-5pm    Mini-analysis of the IMDB data set.\n",
    "\n",
    "\n",
    "I have given each person a green post-it note and a red post-it note. As\n",
    "we are going through the material, if you have finished the tutorial task,\n",
    "put up your green post-it note to let me know. If you are confused about\n",
    "the task, put up your red post-it note. In addition, if you have a question\n",
    "or for any reason want to talk to someone about the tutorial material, feel\n",
    "free to raise your hand to ask me or one of the tutorial volunteers for\n",
    "assistance. That's what we're here for!\n",
    "\"\"\""
   ]
  },
  {
   "cell_type": "code",
   "execution_count": 92,
   "metadata": {
    "collapsed": false
   },
   "outputs": [
    {
     "data": {
      "text/plain": [
       "'\\nSet up computers for the tutorial:\\nAccess the files from the link https://github.com/eqfinney/SciPy\\nClick \"clone or download\" in the upper right corner.\\nClick \"download zip\" and wait for the file to download.\\nAfter you extract the files, you should be able to open them in your \\nCanopy environment.\\nWe\\'ll look around at my notebooks, and then try creating our own.\\n'"
      ]
     },
     "execution_count": 92,
     "metadata": {},
     "output_type": "execute_result"
    }
   ],
   "source": [
    "# Introduction to Jupyter Notebooks.\n",
    "# Time estimate: 10 min\n",
    "\n",
    "\"\"\"\n",
    "Set up computers for the tutorial:\n",
    "Access the files from the link https://github.com/eqfinney/SciPy\n",
    "Click \"clone or download\" in the upper right corner.\n",
    "Click \"download zip\" and wait for the file to download.\n",
    "After you extract the files, you should be able to open them in your \n",
    "Canopy environment.\n",
    "We'll look around at my notebooks, and then try creating our own.\n",
    "\"\"\"\n",
    "# what is a notebook\n",
    "# how to add a cell\n",
    "# how to run a cell\n",
    "# a little bit about Python error messages"
   ]
  },
  {
   "cell_type": "code",
   "execution_count": 93,
   "metadata": {
    "collapsed": false
   },
   "outputs": [
    {
     "name": "stdout",
     "output_type": "stream",
     "text": [
      "<class 'float'>\n",
      "<class 'int'>\n",
      "<class 'bool'>\n",
      "<class 'str'>\n"
     ]
    }
   ],
   "source": [
    "# Introduction to basic Python syntax\n",
    "\"\"\"\n",
    "Many of you are already familar with the basic syntax of Python. But we're\n",
    "going to spend this first section reviewing, to make sure everyone is on\n",
    "the same page for later in the day. I learned some new stuff about Python\n",
    "while preparing for this tutorial, so even if you are already familiar\n",
    "with basic Python syntax be on the lookout for cool new tidbits! Again, if\n",
    "you feel lost or stuck, put up a red post-it note or raise your hand. I\n",
    "and the tutorial volunteers are happy to help.\n",
    "\"\"\"\n",
    "\n",
    "# Data types\n",
    "# Time estimate: 10 min\n",
    "# ints, floats, booleans, strings (won't mention long, complex)\n",
    "\"\"\"\n",
    "If you've used a programming language before, you are probably familiar\n",
    "with some of the objects you can use to communicate with your computer.\n",
    "\"\"\"\n",
    "2.0\n",
    "print(type(2.0))\n",
    "\n",
    "2\n",
    "print(type(2))\n",
    "\n",
    "True\n",
    "print(type(True))\n",
    "\n",
    "\"Hi scipy\"\n",
    "print(type(\"Hi scipy\"))"
   ]
  },
  {
   "cell_type": "code",
   "execution_count": 94,
   "metadata": {
    "collapsed": false
   },
   "outputs": [
    {
     "name": "stdout",
     "output_type": "stream",
     "text": [
      "<class 'list'>\n",
      "<class 'list'>\n"
     ]
    }
   ],
   "source": [
    "# lists\n",
    "\"\"\"\n",
    "There are also objects that group other objects together.\n",
    "\"\"\"\n",
    "[1,2,3]\n",
    "print(type([1,2,3]))\n",
    "\n",
    "['h','i',' ','s','c','i','p','y']\n",
    "print(type(['h','i',' ','s','c','i','p','y']))"
   ]
  },
  {
   "cell_type": "code",
   "execution_count": 95,
   "metadata": {
    "collapsed": false
   },
   "outputs": [
    {
     "name": "stdout",
     "output_type": "stream",
     "text": [
      "Batman Begins\n",
      "<class 'str'>\n"
     ]
    }
   ],
   "source": [
    "# assigning variables\n",
    "movie_title = \"Batman Begins\"\n",
    "print(movie_title)\n",
    "print(type(movie_title))"
   ]
  },
  {
   "cell_type": "code",
   "execution_count": 96,
   "metadata": {
    "collapsed": false
   },
   "outputs": [
    {
     "data": {
      "text/plain": [
       "'\\nExercise:\\nForm into groups of 2-4 people and introduce yourselves! \\nTake a few minutes to make one or two objects of each data type.\\nDiscuss with your group an example of when each data type might be used\\nin the real world. \\n'"
      ]
     },
     "execution_count": 96,
     "metadata": {},
     "output_type": "execute_result"
    }
   ],
   "source": [
    "\"\"\"\n",
    "Exercise:\n",
    "Form into groups of 2-4 people and introduce yourselves! \n",
    "Take a few minutes to make one or two objects of each data type.\n",
    "Discuss with your group an example of when each data type might be used\n",
    "in the real world. \n",
    "\"\"\""
   ]
  },
  {
   "cell_type": "code",
   "execution_count": 97,
   "metadata": {
    "collapsed": false
   },
   "outputs": [
    {
     "data": {
      "text/plain": [
       "\" \\nExercise:\\nWhat happens if you try using mathematical operations (like + or -) on\\ndifferent data types? For example, can you add two strings? Can you \\nsubtract an int and a float? Try several examples to see what happens.\\nThen (if you aren't already) discuss your findings with your group.\\n\""
      ]
     },
     "execution_count": 97,
     "metadata": {},
     "output_type": "execute_result"
    }
   ],
   "source": [
    "\"\"\" \n",
    "Exercise:\n",
    "What happens if you try using mathematical operations (like + or -) on\n",
    "different data types? For example, can you add two strings? Can you \n",
    "subtract an int and a float? Try several examples to see what happens.\n",
    "Then (if you aren't already) discuss your findings with your group.\n",
    "\"\"\""
   ]
  },
  {
   "cell_type": "code",
   "execution_count": 98,
   "metadata": {
    "collapsed": false
   },
   "outputs": [
    {
     "name": "stdout",
     "output_type": "stream",
     "text": [
      "Batman Begins is awesome!\n"
     ]
    }
   ],
   "source": [
    "# Concatenating, indexing, slicing\n",
    "# Time estimate: 20 min\n",
    "\"\"\"\n",
    "So now that we've got types down, I'd like to start using slightly more \n",
    "interesting examples.\n",
    "\"\"\"\n",
    "\n",
    "# concatenating\n",
    "movie_title + \" is awesome!\"\n",
    "print(movie_title + \" is awesome!\")"
   ]
  },
  {
   "cell_type": "code",
   "execution_count": 99,
   "metadata": {
    "collapsed": false
   },
   "outputs": [
    {
     "name": "stdout",
     "output_type": "stream",
     "text": [
      "B\n"
     ]
    }
   ],
   "source": [
    "# indexing\n",
    "movie_title[0]\n",
    "print(movie_title[0])"
   ]
  },
  {
   "cell_type": "code",
   "execution_count": 100,
   "metadata": {
    "collapsed": false
   },
   "outputs": [
    {
     "name": "stdout",
     "output_type": "stream",
     "text": [
      "a\n"
     ]
    }
   ],
   "source": [
    "movie_title[1]\n",
    "print(movie_title[1])"
   ]
  },
  {
   "cell_type": "code",
   "execution_count": 101,
   "metadata": {
    "collapsed": false
   },
   "outputs": [
    {
     "name": "stdout",
     "output_type": "stream",
     "text": [
      "s\n"
     ]
    }
   ],
   "source": [
    "movie_title[-1]\n",
    "print(movie_title[-1])"
   ]
  },
  {
   "cell_type": "code",
   "execution_count": 102,
   "metadata": {
    "collapsed": false
   },
   "outputs": [
    {
     "name": "stdout",
     "output_type": "stream",
     "text": [
      "Batman\n"
     ]
    }
   ],
   "source": [
    "# slicing\n",
    "print(movie_title[:6])"
   ]
  },
  {
   "cell_type": "code",
   "execution_count": 103,
   "metadata": {
    "collapsed": false
   },
   "outputs": [
    {
     "name": "stdout",
     "output_type": "stream",
     "text": [
      "Batman Begins\n",
      "13\n"
     ]
    }
   ],
   "source": [
    "# finding the length of a string\n",
    "len(movie_title)\n",
    "print(movie_title)\n",
    "print(len(movie_title))"
   ]
  },
  {
   "cell_type": "code",
   "execution_count": 104,
   "metadata": {
    "collapsed": false
   },
   "outputs": [
    {
     "data": {
      "text/plain": [
       "'\\nExercise:\\nThink of a sentence you could use as a string, and assign it to a variable.\\nThen, print that sentence to your screen with no spaces.\\nFinally, find the length of your sentence, with spaces and without spaces.\\nSubtract these two values to find how many spaces your sentence has!\\n'"
      ]
     },
     "execution_count": 104,
     "metadata": {},
     "output_type": "execute_result"
    }
   ],
   "source": [
    "\"\"\"\n",
    "Exercise:\n",
    "Think of a sentence you could use as a string, and assign it to a variable.\n",
    "Then, print that sentence to your screen with no spaces.\n",
    "Finally, find the length of your sentence, with spaces and without spaces.\n",
    "Subtract these two values to find how many spaces your sentence has!\n",
    "\"\"\""
   ]
  },
  {
   "cell_type": "code",
   "execution_count": 105,
   "metadata": {
    "collapsed": false
   },
   "outputs": [
    {
     "data": {
      "text/plain": [
       "\"\\nExercise:\\nIt turns out that many of the tricks we can do with strings (indexing, \\nslicing, concatenating, finding the length) are also things we can do with\\nlists! Create a list of your group's favorite movies. Then try:\\n- Indexing the list (for example, finding and printing out just one person's\\n  favorite movie)\\n- Slicing the list (finding and printing out a small section of the list)\\n- Concatenating two lists together\\n- Finding the length of a list\\n\""
      ]
     },
     "execution_count": 105,
     "metadata": {},
     "output_type": "execute_result"
    }
   ],
   "source": [
    "\"\"\"\n",
    "Exercise:\n",
    "It turns out that many of the tricks we can do with strings (indexing, \n",
    "slicing, concatenating, finding the length) are also things we can do with\n",
    "lists! Create a list of your group's favorite movies. Then try:\n",
    "- Indexing the list (for example, finding and printing out just one person's\n",
    "  favorite movie)\n",
    "- Slicing the list (finding and printing out a small section of the list)\n",
    "- Concatenating two lists together\n",
    "- Finding the length of a list\n",
    "\"\"\""
   ]
  },
  {
   "cell_type": "code",
   "execution_count": null,
   "metadata": {
    "collapsed": true
   },
   "outputs": [],
   "source": [
    "\"\"\"\n",
    "Exercise:\n",
    "Discuss with your group how we might access just one letter of one string\n",
    "in a list of strings. For example, how would we access the letter 'Z' in\n",
    "['potato', 'carrot', 'onion', 'pepper', 'Zucchini', 'celery]?\n",
    "\"\"\""
   ]
  },
  {
   "cell_type": "code",
   "execution_count": 106,
   "metadata": {
    "collapsed": false
   },
   "outputs": [
    {
     "name": "stdout",
     "output_type": "stream",
     "text": [
      "Hello Daniel!\n"
     ]
    }
   ],
   "source": [
    "# If/else\n",
    "# Time estimate: 10 min\n",
    "# introductory example \n",
    "if name == \"Huaying\":\n",
    "    print(\"Hello Huaying!\")\n",
    "elif name == \"Christian\":\n",
    "    print(\"Hello Christian!\")\n",
    "elif name == \"Jim\":\n",
    "    print(\"Hello Jim!\")\n",
    "else: \n",
    "    print(\"Hello Daniel!\")"
   ]
  },
  {
   "cell_type": "code",
   "execution_count": 107,
   "metadata": {
    "collapsed": false
   },
   "outputs": [
    {
     "name": "stdout",
     "output_type": "stream",
     "text": [
      "What is your name? Hannah\n",
      "Are you a Teen Track volunteer? No\n",
      "Welcome to the tutorial, Hannah\n"
     ]
    }
   ],
   "source": [
    "# another example\n",
    "\n",
    "name = input(\"What is your name? \")\n",
    "answer = input(\"Are you a Teen Track volunteer? \")\n",
    "\n",
    "if answer == \"yes\":\n",
    "    if name == \"Huaying\":\n",
    "        print(\"Thanks for helping, Huaying!\")\n",
    "    elif name == \"Christian\":\n",
    "        print(\"Thanks for helping, Christian!\")\n",
    "    elif name == \"Jim\":\n",
    "        print(\"Thanks for helping, Jim!\")\n",
    "    elif name == \"Daniel\": \n",
    "        print(\"Thanks for helping, Daniel!\")\n",
    "    else:\n",
    "        print(\"Pleased to meet you!\")\n",
    "else:\n",
    "    print(\"Welcome to the tutorial, \" + name)"
   ]
  },
  {
   "cell_type": "code",
   "execution_count": 108,
   "metadata": {
    "collapsed": false
   },
   "outputs": [
    {
     "name": "stdout",
     "output_type": "stream",
     "text": [
      "What is your favorite animal? bat\n",
      "Your favorite movie must be batman!\n"
     ]
    }
   ],
   "source": [
    "# another example, but with animals and movies this time\n",
    "\n",
    "answer = input(\"What is your favorite animal? \")\n",
    "length = len(answer)\n",
    "if answer[1:length] == \"at\":\n",
    "    print(\"Your favorite movie must be \" + str(answer) + \"man!\")\n",
    "elif answer == \"spider\":\n",
    "    print(\"Your favorite movie must be \" + str(answer) + \"man!\")\n",
    "else:\n",
    "    print(\"I don't think you even like movies.\")"
   ]
  },
  {
   "cell_type": "code",
   "execution_count": 109,
   "metadata": {
    "collapsed": false
   },
   "outputs": [
    {
     "data": {
      "text/plain": [
       "'\\nExercise:\\n\\n'"
      ]
     },
     "execution_count": 109,
     "metadata": {},
     "output_type": "execute_result"
    }
   ],
   "source": [
    "\"\"\"\n",
    "Exercise:\n",
    "Create a VERY short choose-your-own-adventure game!\n",
    "Let the user make up to two choices before the game ends. \n",
    "For example, you could start the game by printing a few sentences of a story,\n",
    "and then ask the user what to do using the command input().\n",
    "The next step of the story depends on the user's answer.\n",
    "\"\"\""
   ]
  },
  {
   "cell_type": "code",
   "execution_count": 110,
   "metadata": {
    "collapsed": false
   },
   "outputs": [
    {
     "name": "stdout",
     "output_type": "stream",
     "text": [
      "3.0\n"
     ]
    }
   ],
   "source": [
    "# Importing packages\n",
    "# Time estimate: 10 min\n",
    "\"\"\"\n",
    "A package is a collection of Python operations that go above and\n",
    "beyond what you might use in every program. For instance, I may not need to\n",
    "calculate a square root every day. But if I do, I can use the math package.\n",
    "\"\"\"\n",
    "import math\n",
    "print(math.sqrt(9))"
   ]
  },
  {
   "cell_type": "code",
   "execution_count": 111,
   "metadata": {
    "collapsed": false
   },
   "outputs": [
    {
     "name": "stdout",
     "output_type": "stream",
     "text": [
      "3.0\n"
     ]
    }
   ],
   "source": [
    "from math import sqrt\n",
    "print(sqrt(9))"
   ]
  },
  {
   "cell_type": "code",
   "execution_count": 112,
   "metadata": {
    "collapsed": false
   },
   "outputs": [
    {
     "name": "stdout",
     "output_type": "stream",
     "text": [
      "3.0\n"
     ]
    }
   ],
   "source": [
    "import math as m\n",
    "print(m.sqrt(9))"
   ]
  },
  {
   "cell_type": "code",
   "execution_count": 113,
   "metadata": {
    "collapsed": false
   },
   "outputs": [
    {
     "name": "stdout",
     "output_type": "stream",
     "text": [
      "3.0\n"
     ]
    }
   ],
   "source": [
    "from math import sqrt as sq\n",
    "print(sq(9))"
   ]
  },
  {
   "cell_type": "code",
   "execution_count": 114,
   "metadata": {
    "collapsed": false,
    "scrolled": true
   },
   "outputs": [],
   "source": [
    "\"\"\"\n",
    "Later in this tutorial, we are going to be working with numerical data \n",
    "about movies (like the movie's budget, average IMDB score, number of\n",
    "Facebook likes, etc.) When we want to store numerical data in a table,\n",
    "one of the best packages to use is NumPy, which stands for Numerical\n",
    "Python. So we're going to import the NumPy package and spend the rest\n",
    "of our time in this section of the tutorial playing with NumPy data\n",
    "types.\n",
    "\"\"\"\n",
    "\n",
    "import numpy as np\n",
    "\n",
    "\"\"\"\n",
    "We load a NumPy table by using the loadtxt command. The documentation \n",
    "is here: https://docs.scipy.org/doc/numpy/reference/generated/numpy.loadtxt.html\n",
    "There are various options we can use to load the text; we will use the\n",
    "sep = ' ' option because that tells NumPy to interpret spaces as \n",
    "ways to delineate new columns in our table.\n",
    "\"\"\"\n",
    "table = np.loadtxt('imdb_numerical.txt')"
   ]
  },
  {
   "cell_type": "code",
   "execution_count": 115,
   "metadata": {
    "collapsed": false
   },
   "outputs": [
    {
     "name": "stdout",
     "output_type": "stream",
     "text": [
      "[  0.00000000e+00   7.23000000e+02   1.78000000e+02   0.00000000e+00\n",
      "   8.55000000e+02   1.00000000e+03   7.60505847e+08   8.86204000e+05\n",
      "   4.83400000e+03   3.05400000e+03   2.37000000e+08   2.00900000e+03\n",
      "   9.36000000e+02   7.90000000e+00   3.30000000e+04]\n"
     ]
    }
   ],
   "source": [
    "# NumPy rows\n",
    "print(table[0])"
   ]
  },
  {
   "cell_type": "code",
   "execution_count": 116,
   "metadata": {
    "collapsed": false
   },
   "outputs": [
    {
     "name": "stdout",
     "output_type": "stream",
     "text": [
      "[  0.00000000e+00   1.00000000e+00   3.00000000e+00 ...,   5.03500000e+03\n",
      "   5.03700000e+03   5.04200000e+03]\n"
     ]
    }
   ],
   "source": [
    "# NumPy columns\n",
    "print(table[:,0])"
   ]
  },
  {
   "cell_type": "code",
   "execution_count": 117,
   "metadata": {
    "collapsed": false
   },
   "outputs": [
    {
     "name": "stdout",
     "output_type": "stream",
     "text": [
      "15.0\n"
     ]
    }
   ],
   "source": [
    "# accessing a single element\n",
    "data_point = table[5,3]\n",
    "print(data_point)"
   ]
  },
  {
   "cell_type": "code",
   "execution_count": 118,
   "metadata": {
    "collapsed": true
   },
   "outputs": [],
   "source": [
    "\"\"\"\n",
    "You may be wondering: how exactly do we know what columns are what? \n",
    "The short answer is, NumPy doesn't have a very straightforward way \n",
    "to label columns. (There is another package, Pandas, that is great for\n",
    "this, but we won't have time to cover it.) Use your text editor to \n",
    "open up the file 'imdb_numerical.txt' and read the first line of the \n",
    "file to get the column names. In the future, we may choose to name \n",
    "individual columns so we don't have to remember that column 0 is the \n",
    "budget, for instance.\n",
    "\"\"\"\n",
    "\n",
    "id = table[:,0]\n",
    "num_critic_for_reviews = table[:,1]\n",
    "# etc."
   ]
  },
  {
   "cell_type": "code",
   "execution_count": 119,
   "metadata": {
    "collapsed": false
   },
   "outputs": [
    {
     "data": {
      "text/plain": [
       "\"\\nThat's all we'll go over for now. In the next section, we'll talk about\\nhow to add and remove items from lists, and we'll learn about a new data\\ntype, dictionaries. We'll also learn how to create loops, which allow us\\nto perform commands on a lot of data quickly. \\n\""
      ]
     },
     "execution_count": 119,
     "metadata": {},
     "output_type": "execute_result"
    }
   ],
   "source": [
    "\"\"\"\n",
    "That's all we'll go over for now. We'll have lots more time to use NumPy.\n",
    "In the next section, we'll talk about how to add and remove items from \n",
    "lists, and we'll learn about a new data type, dictionaries. We'll also \n",
    "learn how to create loops, which allow us to quickly perform commands \n",
    "on a lot of data. \n",
    "\"\"\""
   ]
  }
 ],
 "metadata": {
  "kernelspec": {
   "display_name": "Python 3",
   "language": "python",
   "name": "python3"
  },
  "language_info": {
   "codemirror_mode": {
    "name": "ipython",
    "version": 3
   },
   "file_extension": ".py",
   "mimetype": "text/x-python",
   "name": "python",
   "nbconvert_exporter": "python",
   "pygments_lexer": "ipython3",
   "version": "3.6.0"
  }
 },
 "nbformat": 4,
 "nbformat_minor": 2
}
