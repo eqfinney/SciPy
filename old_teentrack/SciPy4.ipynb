{
 "cells": [
  {
   "cell_type": "markdown",
   "metadata": {
    "collapsed": true
   },
   "source": [
    "# SciPy Teen Track Afternoon Session\n",
    "\n",
    "**Part 4 (After Break)**\n",
    "\n",
    "**Emily Quinn Finney**\n",
    "\n",
    "## Introduction\n",
    "\n",
    "We're ready to start our mini-analyses! In this section,\n",
    "we are going to use all the tools we've talked about \n",
    "today in order to understand something about the IMDB\n",
    "data set. You (and your tablemate/group) should find\n",
    "a question that interests you about the data. Some\n",
    "examples include:\n",
    "- Has average length of movies changed over time?\n",
    "- Do more popular movies have bigger budgets?\n",
    "\n",
    "Once you have decided on a question, use all the \n",
    "available resources to answer it. You can plot your \n",
    "data, use NumPy functions to find averages, etc.\n",
    "You are also welcome to look at the Python \n",
    "documentation to see if there are new commands that\n",
    "help you complete your analysis, or better ways to \n",
    "plot your data."
   ]
  }
 ],
 "metadata": {
  "kernelspec": {
   "display_name": "Python 3",
   "language": "python",
   "name": "python3"
  },
  "language_info": {
   "codemirror_mode": {
    "name": "ipython",
    "version": 3
   },
   "file_extension": ".py",
   "mimetype": "text/x-python",
   "name": "python",
   "nbconvert_exporter": "python",
   "pygments_lexer": "ipython3",
   "version": "3.5.2"
  }
 },
 "nbformat": 4,
 "nbformat_minor": 2
}
