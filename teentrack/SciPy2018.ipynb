{
 "cells": [
  {
   "cell_type": "markdown",
   "metadata": {},
   "source": [
    "# SciPy Teen Track, Monday Session\n",
    "\n",
    "**Emily Quinn Finney**\n",
    "\n",
    "## Introduction\n",
    "Today we are going to review the basics of Python, including some of its\n",
    "special built-in objects. We will also study other SciPy packages useful\n",
    "for data analysis. These include NumPy (\"Numerical Python\"), which helps\n",
    "analyze numerical data with many-dimensional tables called arrays, and\n",
    "matplotlib (\"Matlab Plot Library\"), which helps visualize data with various\n",
    "plotting tools. We will go through examples of Python code, as well as\n",
    "write our own scripts. At the end of the day tomorrow, we will do a \n",
    "mini-analysis that puts all those skills together.\n",
    "\n",
    "\n",
    "\n",
    "Here's our tentative schedule:\n",
    "\n",
    "**Monday**\n",
    "\n",
    "***9:30am-10:15am***   Introduction to Jupyter Notebooks. Introduction to Python \n",
    "              syntax (data types, if/else statements, indexing, string \n",
    "              slicing).\n",
    "\n",
    "***10:30am-12pm***  Introduction to more advanced data types (dictionaries) \n",
    "              and their functionality. Introduction to for/while\n",
    "              loops and list comprehensions. Introduction to importing packages\n",
    "              and NumPy.\n",
    "              \n",
    "***12pm-1pm***      Lunch\n",
    "\n",
    "***1pm-3:15pm***    Speakers\n",
    "\n",
    "***3:30pm-5pm***    Introduction to matplotlib. We'll start to see interesting \n",
    "                things in our IMDB data set by making plots of movie popularity.\n",
    "              \n",
    "**Tuesday**\n",
    "\n",
    "***9:45am-12pm***   Tour of the Texas Advanced Computing Center (TACC)\n",
    "              \n",
    "***12pm-1pm***      Lunch\n",
    "\n",
    "***1pm-3:15pm***    Speakers\n",
    "\n",
    "***3:30pm-5pm***    Mini-analysis of the IMDB data set, including questions\n",
    "              and presentations to fellow tutorial-attendees.\n",
    "\n",
    "\n",
    "You should have a notepad of Enthought post-it nots. Please take two of them.\n",
    "On one post-it note, draw a smiley face or write \"I'm finished\". On the other,\n",
    "draw a frowning face or write \"I need help.\" As we are going through the \n",
    "material, if you have finished the tutorial task, put your smiley face post-it \n",
    "note in front of you to let me know you're done. If you are confused about\n",
    "the task, put up your frowning post-it note. In addition, if you have a question\n",
    "or for any reason want to talk to someone about the tutorial material, feel\n",
    "free to raise your hand to ask me or one of the tutorial volunteers for\n",
    "assistance. That's what we're here for!"
   ]
  },
  {
   "cell_type": "markdown",
   "metadata": {},
   "source": [
    "## Introduction to Jupyter Notebooks.\n",
    "\n",
    "Set up computers for the tutorial:\n",
    "Access the files from the link https://github.com/eqfinney/SciPy\n",
    "Click \"clone or download\" in the upper right corner.\n",
    "Click \"download zip\" and wait for the file to download.\n",
    "After you extract the files, you should be able to open them in your \n",
    "Canopy environment.\n",
    "We'll look around at my notebooks, then try creating your own."
   ]
  },
  {
   "cell_type": "code",
   "execution_count": 1,
   "metadata": {},
   "outputs": [
    {
     "data": {
      "text/plain": [
       "4"
      ]
     },
     "execution_count": 1,
     "metadata": {},
     "output_type": "execute_result"
    }
   ],
   "source": [
    "# what is a notebook\n",
    "# how to add a cell\n",
    "# how to run a cell\n",
    "# a little bit about Python error messages\n",
    "2+2"
   ]
  },
  {
   "cell_type": "code",
   "execution_count": null,
   "metadata": {
    "collapsed": true
   },
   "outputs": [],
   "source": []
  },
  {
   "cell_type": "markdown",
   "metadata": {},
   "source": [
    "## Introduction to basic Python syntax\n",
    "Many of you are already familar with the basic syntax of Python. But we're\n",
    "going to spend this first section reviewing, to make sure everyone is on\n",
    "the same page for later in the day. I learned some new stuff about Python\n",
    "while preparing for this tutorial, so even if you are already familiar\n",
    "with basic Python syntax be on the lookout for cool new tidbits! Again, if\n",
    "you feel lost or stuck, put up a red post-it note or raise your hand. I\n",
    "and the tutorial volunteers are happy to help."
   ]
  },
  {
   "cell_type": "markdown",
   "metadata": {},
   "source": [
    "## Data types\n",
    "\n",
    "If you've used a programming language before, you are probably familiar\n",
    "with some of the objects you can use to communicate with your computer."
   ]
  },
  {
   "cell_type": "code",
   "execution_count": null,
   "metadata": {
    "collapsed": true
   },
   "outputs": [],
   "source": [
    "# ints, floats, booleans, strings\n",
    "2.0\n",
    "print(type(2.0))\n",
    "\n",
    "2\n",
    "print(type(2))\n",
    "\n",
    "True\n",
    "print(type(True))\n",
    "\n",
    "\"Hi scipy\"\n",
    "print(type(\"Hi scipy\"))"
   ]
  },
  {
   "cell_type": "code",
   "execution_count": null,
   "metadata": {
    "collapsed": true
   },
   "outputs": [],
   "source": [
    "# lists\n",
    "[1,2,3]\n",
    "print(type([1,2,3]))\n",
    "\n",
    "['h','i',' ','s','c','i','p','y']\n",
    "print(type(['h','i',' ','s','c','i','p','y']))"
   ]
  },
  {
   "cell_type": "code",
   "execution_count": null,
   "metadata": {
    "collapsed": true
   },
   "outputs": [],
   "source": [
    "# assigning variables\n",
    "movie_title = \"Batman Begins\"\n",
    "print(movie_title)\n",
    "print(type(movie_title))"
   ]
  },
  {
   "cell_type": "markdown",
   "metadata": {},
   "source": [
    "## Exercise:\n",
    "Form into groups of 2-4 people and introduce yourselves! \n",
    "Take a few minutes to make one or two objects of each data type.\n",
    "Discuss with your group an example of when each data type might be used\n",
    "in the real world."
   ]
  },
  {
   "cell_type": "markdown",
   "metadata": {},
   "source": [
    "## Exercise:\n",
    "What happens if you try using mathematical operations (like + or -) on\n",
    "different data types? For example, can you add two strings? Can you \n",
    "subtract an int and a float? Try several examples to see what happens.\n",
    "Then (if you aren't already) discuss your findings with your group."
   ]
  },
  {
   "cell_type": "markdown",
   "metadata": {},
   "source": [
    "## Challenge Section: Python 'wats'\n",
    "\n",
    "Sometimes different data types don't behave the way you expect (often this is called a 'wat', coined in this talk: https://www.destroyallsoftware.com/talks/wat). Python has some 'wats' of its own. Consider:\n",
    "\n",
    "```False == False in [False]```\n",
    "\n",
    "What do you expect to happen? Once you've made a guess, try running it. Can you explain the results?\n",
    "\n",
    "Once you've spent some time trying to understand what happened, head over to https://www.youtube.com/watch?v=mRPU3l54Z7I \n",
    "\n",
    "If you just can't get enough of the 'wat' fun, check out this one too :)\n",
    "https://www.youtube.com/watch?v=sH4XF6pKKmk"
   ]
  },
  {
   "cell_type": "markdown",
   "metadata": {},
   "source": [
    "## Challenge Section: Binary\n",
    "\n",
    "It turns out that computers don't understand numbers the same way humans do. Most human societies use a 'base 10' numerical system. This means that the power of a number (aka, how many digits it has) is based on how many times we had to count to 10 to get there. \n",
    "\n",
    "Let's use an example. \n",
    "\n",
    "```1 one = 1```\n",
    "\n",
    "```10 ones = 10```: because we counted ten ones, we moved the digit one place to the left\n",
    "\n",
    "```100 ones = 100```: because we counted ten tens, each of which is ten ones, we moved the digit two places to the left\n",
    "\n",
    "etc."
   ]
  },
  {
   "cell_type": "markdown",
   "metadata": {},
   "source": [
    "But computers use a 'base 2' or 'binary' system. This means that:\n",
    "\n",
    "```1 one = 1```\n",
    "\n",
    "```2 ones = 10```: because we counted two ones, we moved the digit one place to the left\n",
    "\n",
    "```3 ones = 11```\n",
    "\n",
    "```4 ones = 100```: because we counted two twos, each of which is two ones, we moved the digit two places to the left\n",
    "\n",
    "etc.\n",
    "\n",
    "\n",
    "Can you write a program that converts a base 10 number into a binary number?"
   ]
  },
  {
   "cell_type": "markdown",
   "metadata": {},
   "source": [
    "## Concatenating, indexing, slicing"
   ]
  },
  {
   "cell_type": "code",
   "execution_count": null,
   "metadata": {
    "collapsed": true
   },
   "outputs": [],
   "source": [
    "# concatenating\n",
    "movie_title + \" is awesome!\"\n",
    "print(movie_title + \" is awesome!\")"
   ]
  },
  {
   "cell_type": "code",
   "execution_count": null,
   "metadata": {
    "collapsed": true,
    "scrolled": true
   },
   "outputs": [],
   "source": [
    "# indexing\n",
    "movie_title[0]\n",
    "print(movie_title[0])"
   ]
  },
  {
   "cell_type": "code",
   "execution_count": null,
   "metadata": {
    "collapsed": true
   },
   "outputs": [],
   "source": [
    "movie_title[1]\n",
    "print(movie_title[1])"
   ]
  },
  {
   "cell_type": "code",
   "execution_count": null,
   "metadata": {
    "collapsed": true
   },
   "outputs": [],
   "source": [
    "movie_title[-1]\n",
    "print(movie_title[-1])"
   ]
  },
  {
   "cell_type": "code",
   "execution_count": null,
   "metadata": {
    "collapsed": true
   },
   "outputs": [],
   "source": [
    "# slicing\n",
    "print(movie_title[6:8])"
   ]
  },
  {
   "cell_type": "code",
   "execution_count": null,
   "metadata": {
    "collapsed": true
   },
   "outputs": [],
   "source": [
    "# finding the length of a string\n",
    "len(movie_title)\n",
    "print(movie_title)\n",
    "print(len(movie_title))"
   ]
  },
  {
   "cell_type": "markdown",
   "metadata": {},
   "source": [
    "## Exercise:\n",
    "Think of a sentence you could use as a string, and assign it to a variable.\n",
    "Then, print that sentence to your screen with no spaces.\n",
    "Finally, find the length of your sentence, with spaces and without spaces.\n",
    "Subtract these two values to find how many spaces your sentence has!"
   ]
  },
  {
   "cell_type": "markdown",
   "metadata": {},
   "source": [
    "## Exercise:\n",
    "It turns out that many of the tricks we can do with strings (indexing, \n",
    "slicing, concatenating, finding the length) are also things we can do with\n",
    "lists! Create a list of your group's favorite movies. Then try:\n",
    "- Indexing the list (for example, finding and printing out just one person's\n",
    "  favorite movie)\n",
    "- Slicing the list (finding and printing out a small section of the list)\n",
    "- Concatenating two lists together\n",
    "- Finding the length of a list"
   ]
  },
  {
   "cell_type": "markdown",
   "metadata": {},
   "source": [
    "## Exercise:\n",
    "Discuss with your group how we might access just one letter of one string\n",
    "in a list of strings. For example, how would we access the letter 'Z' in\n",
    "['potato', 'carrot', 'onion', 'pepper', 'Zucchini', 'celery]?"
   ]
  },
  {
   "cell_type": "markdown",
   "metadata": {},
   "source": [
    "## If/Else"
   ]
  },
  {
   "cell_type": "code",
   "execution_count": null,
   "metadata": {
    "collapsed": true
   },
   "outputs": [],
   "source": [
    "# introductory example \n",
    "name = \"Emily\"\n",
    "if name == \"Huaying\":\n",
    "    print(\"Hello Huaying!\")\n",
    "elif name == \"Christian\":\n",
    "    print(\"Hello Christian!\")\n",
    "elif name == \"Jim\":\n",
    "    print(\"Hello Jim!\")\n",
    "else: \n",
    "    print(\"Hello Daniel!\")"
   ]
  },
  {
   "cell_type": "code",
   "execution_count": null,
   "metadata": {
    "collapsed": true
   },
   "outputs": [],
   "source": [
    "# another example\n",
    "\n",
    "name = input(\"What is your name? \")\n",
    "answer = input(\"Are you a Teen Track volunteer? \")\n",
    "\n",
    "if answer == \"yes\":\n",
    "    if name == \"Huaying\":\n",
    "        print(\"Thanks for helping, Huaying!\")\n",
    "    elif name == \"Christian\":\n",
    "        print(\"Thanks for helping, Christian!\")\n",
    "    elif name == \"Jim\":\n",
    "        print(\"Thanks for helping, Jim!\")\n",
    "    elif name == \"Daniel\": \n",
    "        print(\"Thanks for helping, Daniel!\")\n",
    "    else:\n",
    "        print(\"Pleased to meet you!\")\n",
    "else:\n",
    "    print(\"Welcome to the tutorial, \" + name)"
   ]
  },
  {
   "cell_type": "code",
   "execution_count": null,
   "metadata": {
    "collapsed": true
   },
   "outputs": [],
   "source": [
    "# another example, but with animals and movies this time\n",
    "\n",
    "answer = input(\"What is your favorite animal? \")\n",
    "length = len(answer)\n",
    "if answer[1:length] == \"at\":\n",
    "    print(\"Your favorite movie must be \" + str(answer) + \"man!\")\n",
    "elif answer == \"spider\":\n",
    "    print(\"Your favorite movie must be \" + str(answer) + \"man!\")\n",
    "else:\n",
    "    print(\"I don't think you even like movies.\")"
   ]
  },
  {
   "cell_type": "markdown",
   "metadata": {},
   "source": [
    "## Exercise:\n",
    "Create a choose-your-own-adventure game!\n",
    "Let the user make up to two choices before the game ends.\n",
    "For example, you could start the game by printing a few sentences of a story,\n",
    "and then ask the user what to do using the command input().\n",
    "The next step of the story depends on the user's answer."
   ]
  },
  {
   "cell_type": "markdown",
   "metadata": {},
   "source": [
    "## Dictionaries"
   ]
  },
  {
   "cell_type": "code",
   "execution_count": null,
   "metadata": {
    "collapsed": true
   },
   "outputs": [],
   "source": [
    "# discuss key/value pairs\n",
    "directors = {\"Avatar\": \"James Cameron\", \n",
    "             \"Pirates of the Caribbean\": \"Gore Verbinski\"}\n",
    "print(directors[\"Avatar\"])"
   ]
  },
  {
   "cell_type": "code",
   "execution_count": null,
   "metadata": {
    "collapsed": true
   },
   "outputs": [],
   "source": [
    "# another dict example\n",
    "avatar = {'movie_id': '0', \n",
    "          'color': 'Color', \n",
    "          'director_name': 'James Cameron', \n",
    "          'num_critic_for_reviews': '723.0', \n",
    "          'duration': '178.0', 'director_facebook_likes': '0.0', 'actor_3_facebook_likes': '855.0', \n",
    "          'actor_2_name': 'Joel David Moore', 'actor_1_facebook_likes': '1000.0', 'gross': '760505847.0', \n",
    "          'genres': 'Action|Adventure|Fantasy|Sci-Fi', \n",
    "          'actor_1_name': 'CCH Pounder', 'movie_title': 'Avatar\\xa0', \n",
    "          'num_voted_users': '886204', 'cast_total_facebook_likes': '4834', 'actor_3_name': 'Wes Studi', \n",
    "          'num_user_for_reviews': '3054.0', 'language': 'English', 'country': 'USA', 'content_rating': 'PG-13', \n",
    "          'budget': '237000000.0', 'title_year': '2009.0', 'actor_2_facebook_likes': '936.0', 'imdb_score': '7.9', \n",
    "          'movie_facebook_likes': '33000.0'}\n",
    "\n",
    "print(avatar['language'])\n",
    "print(avatar['actor_2_name'])"
   ]
  },
  {
   "cell_type": "code",
   "execution_count": null,
   "metadata": {
    "collapsed": true
   },
   "outputs": [],
   "source": [
    "# we can change the value associated with a dictionary key\n",
    "avatar['movie_title'] = 'Avatar'\n",
    "print(avatar['movie_title'])"
   ]
  },
  {
   "cell_type": "code",
   "execution_count": null,
   "metadata": {
    "collapsed": true
   },
   "outputs": [],
   "source": [
    "# we can delete a dictionary key\n",
    "del avatar['genres']\n",
    "print(avatar)"
   ]
  },
  {
   "cell_type": "code",
   "execution_count": null,
   "metadata": {
    "collapsed": true
   },
   "outputs": [],
   "source": [
    "# we can find out if a key is in a dictionary\n",
    "print('country' in avatar)\n",
    "print('title_year' in avatar)"
   ]
  },
  {
   "cell_type": "markdown",
   "metadata": {},
   "source": [
    "## Exercise: \n",
    "Create a dictionary that associates the names of \n",
    "people in your group with their favorite movie. \n",
    "\n",
    "For example, my listing in the dictionary might look like\n",
    "\n",
    "```{'Emily Quinn Finney': 'Dan in Real Life'}``` \n",
    "\n",
    "'Emily Quinn Finney', my name, is the key.\n",
    "'Dan in Real Life', the title of my favorite movie, is the value.\n",
    "\n",
    "Once you have created your dictionary, write an if/else \n",
    "statement that lets you delete a dictionary entry if the \n",
    "key of that entry is 'test'."
   ]
  },
  {
   "cell_type": "markdown",
   "metadata": {},
   "source": [
    "## More on Lists"
   ]
  },
  {
   "cell_type": "code",
   "execution_count": null,
   "metadata": {
    "collapsed": true
   },
   "outputs": [],
   "source": [
    "# showing off list capabilities\n",
    "items = ['cat', 'dog', 'pet', 'bird', 'reptile']\n",
    "print(items)"
   ]
  },
  {
   "cell_type": "code",
   "execution_count": null,
   "metadata": {
    "collapsed": true
   },
   "outputs": [],
   "source": [
    "\"\"\" \n",
    "Instead of accessing a value with a key, in a list we access\n",
    "the value using its position ('index') in the list. \n",
    "\"\"\";\n",
    "items[2] = 'spider'\n",
    "print(items)"
   ]
  },
  {
   "cell_type": "code",
   "execution_count": null,
   "metadata": {
    "collapsed": true
   },
   "outputs": [],
   "source": [
    "del items[2]\n",
    "print(items)"
   ]
  },
  {
   "cell_type": "code",
   "execution_count": null,
   "metadata": {
    "collapsed": true
   },
   "outputs": [],
   "source": [
    "items.append('frog')\n",
    "print(items)"
   ]
  },
  {
   "cell_type": "markdown",
   "metadata": {},
   "source": [
    "## Challenge Exercise:\n",
    "\n",
    "Python has another way of grouping items, called a set. It is created the following way:\n",
    "\n",
    "```items = {'cat', 'dog', 'spider', 'bird', 'reptile'}```\n",
    "\n",
    "See if you can change an item in the set, delete an item, or add an item. How is a set similar to a dictionary? How is it similar to a list?\n",
    "\n",
    "It may be helpful to look at the Python documentation page. https://docs.python.org/3.6/library/stdtypes.html#set Documentation pages are a little like \"how-to\" manuals for code syntax. Practice reading documentation pages - that's one of the best ways you can improve your programming skills :)"
   ]
  },
  {
   "cell_type": "markdown",
   "metadata": {},
   "source": [
    "## Importing packages\n",
    "A package is a collection of Python operations that go above and\n",
    "beyond what you might use in every program. For instance, I may not \n",
    "need to calculate a square root every day. But if I do, I can use the \n",
    "math package."
   ]
  },
  {
   "cell_type": "code",
   "execution_count": null,
   "metadata": {
    "collapsed": true
   },
   "outputs": [],
   "source": [
    "import math\n",
    "print(math.sqrt(9))"
   ]
  },
  {
   "cell_type": "code",
   "execution_count": null,
   "metadata": {
    "collapsed": true
   },
   "outputs": [],
   "source": [
    "from math import sqrt\n",
    "print(sqrt(9))"
   ]
  },
  {
   "cell_type": "code",
   "execution_count": null,
   "metadata": {
    "collapsed": true
   },
   "outputs": [],
   "source": [
    "import math as m\n",
    "print(m.sqrt(9))"
   ]
  },
  {
   "cell_type": "code",
   "execution_count": null,
   "metadata": {
    "collapsed": true
   },
   "outputs": [],
   "source": [
    "from math import sqrt as sq\n",
    "print(sq(9))"
   ]
  },
  {
   "cell_type": "markdown",
   "metadata": {},
   "source": [
    "## Lists of Dictionaries\n",
    "\n",
    "So now we're familiar with a lot of different forms that our data could take,\n",
    "that is, our data types. Now that we know what those forms are, we're \n",
    "going to spend some time this session getting acquainted with how to use those \n",
    "forms. "
   ]
  },
  {
   "cell_type": "code",
   "execution_count": 3,
   "metadata": {},
   "outputs": [
    {
     "data": {
      "text/plain": [
       "'orangey'"
      ]
     },
     "execution_count": 3,
     "metadata": {},
     "output_type": "execute_result"
    }
   ],
   "source": [
    "fruits = [{'orange': 'orange'}, {'orange': 'orangey'}]\n",
    "fruits[0]\n",
    "fruits[0]['orange']\n",
    "fruits[1]['orange']"
   ]
  },
  {
   "cell_type": "code",
   "execution_count": null,
   "metadata": {
    "collapsed": true
   },
   "outputs": [],
   "source": [
    "# importing the relevant data\n",
    "import csv\n",
    "imdb = list(csv.DictReader(open('imdb_data.txt'), delimiter=' '))\n",
    "print(len(imdb))"
   ]
  },
  {
   "cell_type": "code",
   "execution_count": null,
   "metadata": {
    "collapsed": true
   },
   "outputs": [],
   "source": [
    "print(imdb[0])"
   ]
  },
  {
   "cell_type": "code",
   "execution_count": null,
   "metadata": {
    "collapsed": true
   },
   "outputs": [],
   "source": [
    "print(imdb[0]['color'])"
   ]
  },
  {
   "cell_type": "markdown",
   "metadata": {},
   "source": [
    "## Introduction to NumPy\n",
    "Later in this tutorial, we are going to be working with numerical data \n",
    "about movies (like the movie's budget, average IMDB score, number of\n",
    "Facebook likes, etc.) When we want to store numerical data in a table,\n",
    "one of the best packages to use is NumPy, which stands for Numerical\n",
    "Python. So we're going to import the NumPy package and spend the rest\n",
    "of our time in this section of the tutorial playing with NumPy data\n",
    "types.\n",
    "\n",
    "We load a NumPy table by using the loadtxt command. The documentation \n",
    "is here: https://docs.scipy.org/doc/numpy/reference/generated/numpy.loadtxt.html\n",
    "There are various options we can use to load the text; we will use the\n",
    "sep = ' ' option because that tells NumPy to interpret spaces as \n",
    "ways to delineate new columns in our table."
   ]
  },
  {
   "cell_type": "code",
   "execution_count": null,
   "metadata": {
    "collapsed": true,
    "scrolled": true
   },
   "outputs": [],
   "source": [
    "import numpy as np\n",
    "table = np.loadtxt('imdb_numerical.txt')"
   ]
  },
  {
   "cell_type": "code",
   "execution_count": null,
   "metadata": {
    "collapsed": true
   },
   "outputs": [],
   "source": [
    "# NumPy rows\n",
    "print(table[0])"
   ]
  },
  {
   "cell_type": "code",
   "execution_count": null,
   "metadata": {
    "collapsed": true
   },
   "outputs": [],
   "source": [
    "# NumPy columns\n",
    "print(table[:,0])"
   ]
  },
  {
   "cell_type": "code",
   "execution_count": null,
   "metadata": {
    "collapsed": true
   },
   "outputs": [],
   "source": [
    "# accessing a single element\n",
    "data_point = table[5,3]\n",
    "print(data_point)"
   ]
  },
  {
   "cell_type": "markdown",
   "metadata": {},
   "source": [
    "You may be wondering: how exactly do we know what columns are what? \n",
    "The short answer is, NumPy doesn't have a very straightforward way \n",
    "to label columns. (There is another package, Pandas, that is great for\n",
    "this, but we won't have time to cover it.) Use your text editor to \n",
    "open up the file 'imdb_numerical.txt' and read the first line of the \n",
    "file to get the column names. In the future, we may choose to name \n",
    "individual columns so we don't have to remember that column 0 is the \n",
    "budget, for instance."
   ]
  },
  {
   "cell_type": "code",
   "execution_count": null,
   "metadata": {
    "collapsed": true
   },
   "outputs": [],
   "source": [
    "id = table[:,0]\n",
    "num_critic_for_reviews = table[:,1]\n",
    "# etc."
   ]
  },
  {
   "cell_type": "markdown",
   "metadata": {},
   "source": [
    "## Loops\n",
    "\n",
    "In this section, we'll learn how to create loops, which allow us to quickly perform commands on a lot of data. "
   ]
  },
  {
   "cell_type": "code",
   "execution_count": null,
   "metadata": {
    "collapsed": true
   },
   "outputs": [],
   "source": [
    "# while and while/else loops\n",
    "count = 0\n",
    "string = \"\"\n",
    "while count < 26:\n",
    "    string = string + \"NA \"\n",
    "    count = count + 1\n",
    "else:\n",
    "    string = string + \"BATMAN!\"\n",
    "\n",
    "print(string)"
   ]
  },
  {
   "cell_type": "code",
   "execution_count": null,
   "metadata": {
    "collapsed": true
   },
   "outputs": [],
   "source": [
    "# for and for/else loops\n",
    "animals = [\"bat\", \"cat\", \"gnat\", \"rat\"]\n",
    "print(range(len(animals)))\n",
    "for creature_index in range(len(animals)):\n",
    "    print(\"I love \" + str(animals[creature_index]) + \"man!\")"
   ]
  },
  {
   "cell_type": "code",
   "execution_count": null,
   "metadata": {
    "collapsed": true
   },
   "outputs": [],
   "source": [
    "# a less silly example\n",
    "g_movies = []\n",
    "r_movies = []\n",
    "\n",
    "for movie in range(len(imdb)):\n",
    "    if imdb[movie]['content_rating'] == 'G':\n",
    "        g_movies.append(imdb[movie])\n",
    "    elif imdb[movie]['content_rating'] == 'R':\n",
    "        r_movies.append(imdb[movie])\n",
    "    else:\n",
    "        next\n",
    "        \n",
    "print(len(g_movies))\n",
    "print(len(r_movies))\n",
    "print(r_movies)"
   ]
  },
  {
   "cell_type": "markdown",
   "metadata": {},
   "source": [
    "## Exercise: \n",
    "Write a while loop that counts to ten. Then write a for \n",
    "loop that counts to ten. When might one kind of loop be better than\n",
    "another? What might be some problems with each kind of loop? \n",
    "Discuss with your group. "
   ]
  },
  {
   "cell_type": "markdown",
   "metadata": {},
   "source": [
    "## Exercise: \n",
    "Let's practice dictionaries and for loops now. Write a for loop that\n",
    "changes each value in the dictionary to the number 5. Remember: the \n",
    "key is the string that labels the value, and you can access the value\n",
    "using the format\n",
    "\n",
    "```value = dictionary_name[key]```\n",
    "\n",
    "Once you are finished, write a for loop that changes each value in the\n",
    "dictionary to be equal to its zero-indexed position in the dictionary. \n",
    "For instance, the first key should correspond to a value of 0."
   ]
  },
  {
   "cell_type": "markdown",
   "metadata": {},
   "source": [
    "## Challenge Section: List Comprehensions\n",
    "\n",
    "These are also a bit like a for loop, except that they apply specifically to lists. They run a lot faster, too!"
   ]
  },
  {
   "cell_type": "code",
   "execution_count": null,
   "metadata": {
    "collapsed": true
   },
   "outputs": [],
   "source": [
    "values = [1, 2, 3, 4, 5, 6]\n",
    "print(values)\n",
    "squares = [ x*x for x in values if (x != 5)]\n",
    "print(squares)"
   ]
  },
  {
   "cell_type": "code",
   "execution_count": null,
   "metadata": {
    "collapsed": true
   },
   "outputs": [],
   "source": [
    "# apply an example of a list comprehension to a NumPy array\n",
    "\n",
    "duration = table[:,2]\n",
    "print(duration)\n",
    "duration_hours = [ time/60. for time in duration ]\n",
    "print(duration_hours)\n",
    "typical_time = np.mean(duration_hours)\n",
    "print(typical_time)"
   ]
  },
  {
   "cell_type": "code",
   "execution_count": null,
   "metadata": {
    "collapsed": true
   },
   "outputs": [],
   "source": [
    "# another example, with a conditional. \n",
    "\n",
    "duration_shorter = [ row for row in table if (row[2] < 120.) ]\n",
    "print(duration_shorter[0][2])"
   ]
  },
  {
   "cell_type": "markdown",
   "metadata": {},
   "source": [
    "## Challenge Exercise: \n",
    "Suppose that Facebook is giving out a prize to all movie directors\n",
    "who have more than 1000 Facebook likes. Write a list comprehension \n",
    "that keeps only qualifying rows in the imdb_numerical data set. \n",
    "How long is this list? It may help to know that the director's\n",
    "Facebook likes are in the fourth column of the table."
   ]
  },
  {
   "cell_type": "markdown",
   "metadata": {},
   "source": [
    "## Stuff You Can Do To Lists\n",
    "\n",
    "For this section, we're mostly going to talk about operations you can do with lists. You may remember that a NumPy array is basically a list of lists, so we're going to go back to working with our numerical dataset. "
   ]
  },
  {
   "cell_type": "code",
   "execution_count": null,
   "metadata": {
    "collapsed": true
   },
   "outputs": [],
   "source": [
    "import numpy as np\n",
    "table = np.loadtxt('imdb_numerical.txt')\n",
    "budgets = table[:,10]\n",
    "\n",
    "# reductions\n",
    "total_budget = sum(budgets)\n",
    "print(\"Total budget was: $\" + str(total_budget))"
   ]
  },
  {
   "cell_type": "code",
   "execution_count": null,
   "metadata": {
    "collapsed": true
   },
   "outputs": [],
   "source": [
    "min_budget = min(budgets)\n",
    "print(\"Minimum budget was: $\" + str(min_budget))"
   ]
  },
  {
   "cell_type": "code",
   "execution_count": null,
   "metadata": {
    "collapsed": true
   },
   "outputs": [],
   "source": [
    "max_budget = max(budgets)\n",
    "print(\"Maximum budget was: $\" + str(max_budget))"
   ]
  },
  {
   "cell_type": "code",
   "execution_count": null,
   "metadata": {
    "collapsed": true
   },
   "outputs": [],
   "source": [
    "average_budget = np.mean(budgets)\n",
    "print(\"Average budget was: $\" + str(average_budget))"
   ]
  },
  {
   "cell_type": "markdown",
   "metadata": {},
   "source": [
    "## Exercise:\n",
    "Find a different column in the 'imdb_numerical.txt' file. \n",
    "Find the total, minimum, maximum, and average value of that column."
   ]
  },
  {
   "cell_type": "markdown",
   "metadata": {},
   "source": [
    "## Iterations\n",
    "\n",
    "These look a lot like for loops!"
   ]
  },
  {
   "cell_type": "code",
   "execution_count": null,
   "metadata": {
    "collapsed": true
   },
   "outputs": [],
   "source": [
    "budgets = table[:,10]\n",
    "for budget in budgets:\n",
    "    print(\"The budget of this movie was $\" + str(budget))"
   ]
  },
  {
   "cell_type": "code",
   "execution_count": null,
   "metadata": {
    "collapsed": true
   },
   "outputs": [],
   "source": [
    "budgets = table[:,10]\n",
    "gross = table[:,6]\n",
    "difference = gross - budgets\n",
    "movie_id = table[:,0]\n",
    "\n",
    "for num, diff in zip(movie_id, difference):\n",
    "    print(\"Movie ID \" + str(num) + \" made a profit of $\" + str(diff))"
   ]
  },
  {
   "cell_type": "markdown",
   "metadata": {},
   "source": [
    "You may also notice that the Movie IDs do not count up evenly by one.\n",
    "Instead, they skip some values. This is for two reasons. First, when\n",
    "I was putting together the data for us, I removed any movies that had\n",
    "some data missing (for example, the database may not have included its\n",
    "budget). Second, I only included movies made in the USA, because movies\n",
    "made outside the USA had budgets that weren't in US dollars! (It is \n",
    "very hard to compare budgets of movies when one movie's budget is in\n",
    "US dollars and the other is in Japanese yen.)"
   ]
  },
  {
   "cell_type": "markdown",
   "metadata": {},
   "source": [
    "## Challenge Section: Functions"
   ]
  },
  {
   "cell_type": "markdown",
   "metadata": {},
   "source": [
    "## Challenge Exercise\n",
    "\n",
    "Write a function that takes a director's name as the input and returns the average budget of that director's movies."
   ]
  },
  {
   "cell_type": "markdown",
   "metadata": {},
   "source": [
    "## Challenge Exercise\n",
    "\n",
    "Python has many useful data types, but sometimes it is necessary to use a data type that can be understood by many programming languages. One data type that many languages understand is JSON. It is structured a little like a list of dictionaries. Here is an example of some JSON:\n",
    "\n",
    "```{\n",
    "  \"colors\": [\n",
    "    {\n",
    "      \"color\": \"black\",\n",
    "      \"category\": \"hue\",\n",
    "      \"type\": \"primary\",\n",
    "      \"code\": {\n",
    "        \"rgba\": [255,255,255,1],\n",
    "        \"hex\": \"#000\"\n",
    "      }\n",
    "    },\n",
    "    {\n",
    "      \"color\": \"white\",\n",
    "      \"category\": \"value\",\n",
    "      \"code\": {\n",
    "        \"rgba\": [0,0,0,1],\n",
    "        \"hex\": \"#FFF\"\n",
    "      }\n",
    "    },\n",
    "    {\n",
    "      \"color\": \"red\",\n",
    "      \"category\": \"hue\",\n",
    "      \"type\": \"primary\",\n",
    "      \"code\": {\n",
    "        \"rgba\": [255,0,0,1],\n",
    "        \"hex\": \"#FF0\"\n",
    "      }\n",
    "    },\n",
    "    {\n",
    "      \"color\": \"blue\",\n",
    "      \"category\": \"hue\",\n",
    "      \"type\": \"primary\",\n",
    "      \"code\": {\n",
    "        \"rgba\": [0,0,255,1],\n",
    "        \"hex\": \"#00F\"\n",
    "      }\n",
    "    },\n",
    "    {\n",
    "      \"color\": \"yellow\",\n",
    "      \"category\": \"hue\",\n",
    "      \"type\": \"primary\",\n",
    "      \"code\": {\n",
    "        \"rgba\": [255,255,0,1],\n",
    "        \"hex\": \"#FF0\"\n",
    "      }\n",
    "    },\n",
    "    {\n",
    "      \"color\": \"green\",\n",
    "      \"category\": \"hue\",\n",
    "      \"type\": \"secondary\",\n",
    "      \"code\": {\n",
    "        \"rgba\": [0,255,0,1],\n",
    "        \"hex\": \"#0F0\"\n",
    "      }\n",
    "    },\n",
    "  ]\n",
    "}\n",
    "```\n",
    "\n",
    "Try writing a function that takes a color as the input and prints the hex code for that color as the output. "
   ]
  },
  {
   "cell_type": "markdown",
   "metadata": {},
   "source": [
    "## Challenge Exercise\n",
    "\n",
    "Suppose you want to take the example with JSON and colors even further. Try writing code that sorts the colors into two JSON objects: one list that only has colors with category \"hue\", and one list that has only colors with category \"value\". Does your function from the previous exercise still work on this new JSON object? How would you have to change it to work on this new object?"
   ]
  },
  {
   "cell_type": "markdown",
   "metadata": {},
   "source": [
    "## Reading in the data set and exploratory analysis\n",
    "\n",
    "We're finally ready to start diving into our data set! \n",
    "We'll start this section by reading in a text file \n",
    "containing a version of the IMDB data set and getting\n",
    "to know some of its basic properties (using the data \n",
    "types and manipulation tools we discussed earlier). \n",
    "Then we'll learn how to plot our data, so we can \n",
    "see patterns. Finally, we'll talk about how to \n",
    "create a function that will allow you to reproduce an \n",
    "analysis on a different set of data."
   ]
  },
  {
   "cell_type": "code",
   "execution_count": null,
   "metadata": {
    "collapsed": true
   },
   "outputs": [],
   "source": [
    "# importing the relevant data\n",
    "import csv\n",
    "imdb = list(csv.DictReader(open('imdb_data.txt'), \n",
    "                           delimiter=' '))\n",
    "\n",
    "# importing data with NumPy\n",
    "import numpy as np\n",
    "imdb_num = np.loadtxt('imdb_numerical.txt')\n",
    "\n",
    "imdb[2]['director_name']"
   ]
  },
  {
   "cell_type": "markdown",
   "metadata": {},
   "source": [
    "We can put together our text-based data and our \n",
    "numerical data because our data are ordered by movie \n",
    "ID. When you encounter a data in the real \n",
    "world, that is not always true."
   ]
  },
  {
   "cell_type": "code",
   "execution_count": null,
   "metadata": {
    "collapsed": true
   },
   "outputs": [],
   "source": [
    "budget = imdb_num[:,10]\n",
    "movie_title = [ row['movie_title'] for row in imdb ]\n",
    "\n",
    "\n",
    "print(movie_title[99], budget[99])"
   ]
  },
  {
   "cell_type": "code",
   "execution_count": null,
   "metadata": {
    "collapsed": true
   },
   "outputs": [],
   "source": [
    "for index in range(len(imdb)):\n",
    "    print(movie_title[index], budget[index])"
   ]
  },
  {
   "cell_type": "code",
   "execution_count": null,
   "metadata": {
    "collapsed": true
   },
   "outputs": [],
   "source": [
    "# we can find the index of the largest budget movie\n",
    "# and then go back and find what movie it is\n",
    "print(np.argmax(budget))\n",
    "title = movie_title[np.argmax(budget)]\n",
    "print(title)"
   ]
  },
  {
   "cell_type": "markdown",
   "metadata": {},
   "source": [
    "## Exercise: \n",
    "We are going to compare the scores of movies made in \n",
    "2013 and 2014. \n",
    "\n",
    "First, use two list comprehensions to make lists of \n",
    "movies made in 2013 and 2014. You should use the \n",
    "numerical data (from imdb_num). Remember that the \n",
    "numerical data are stored in a list of lists, and \n",
    "the eleventh column stores the year the movie was \n",
    "made.\n",
    "\n",
    "After you have made your list comprehensions, you \n",
    "should have two arrays of data - one list with only \n",
    "movies made in 2013 and one list with only movies made \n",
    "in 2014. Use the np.mean() command to find the average \n",
    "IMDB score of movies made in each year."
   ]
  },
  {
   "cell_type": "markdown",
   "metadata": {},
   "source": [
    "## Plotting/basic intro to matplotlib\n",
    "\n",
    "Now we've seen how we can find some interesting \n",
    "information about what's in a data set. But how can we \n",
    "visualize our data? The package matplotlib helps us \n",
    "take numerical data and turn them into beautiful plots.\n",
    "\n",
    "Here is where we find the documentation for matplotlib. \n",
    "\n",
    "And here are some examples: \n",
    "https://matplotlib.org/gallery.html"
   ]
  },
  {
   "cell_type": "code",
   "execution_count": null,
   "metadata": {
    "collapsed": true
   },
   "outputs": [],
   "source": [
    "import matplotlib.pyplot as plt"
   ]
  },
  {
   "cell_type": "markdown",
   "metadata": {},
   "source": [
    "## Scatter Plots\n",
    "Let's start by plotting two variables we might be \n",
    "interested in.\n",
    "Documentation: \n",
    "https://matplotlib.org/devdocs/api/_as_gen/matplotlib.pyplot.scatter.html"
   ]
  },
  {
   "cell_type": "code",
   "execution_count": null,
   "metadata": {
    "collapsed": true
   },
   "outputs": [],
   "source": [
    "budget = imdb_num[:,10]\n",
    "imdb_score = imdb_num[:,13]\n",
    "print(budget[0], imdb_score[0])"
   ]
  },
  {
   "cell_type": "code",
   "execution_count": null,
   "metadata": {
    "collapsed": true
   },
   "outputs": [],
   "source": [
    "budget_millions = budget/1000000.\n",
    "plt.scatter(budget_millions, imdb_score)\n",
    "plt.title(\"IMDB Score vs. Budget\")\n",
    "plt.xlabel(\"Budget (in millions of dollars)\")\n",
    "plt.ylabel(\"IMDB Score\")\n",
    "plt.show()"
   ]
  },
  {
   "cell_type": "code",
   "execution_count": null,
   "metadata": {
    "collapsed": true
   },
   "outputs": [],
   "source": [
    "print(np.mean(imdb_score))"
   ]
  },
  {
   "cell_type": "markdown",
   "metadata": {},
   "source": [
    "## Histograms\n",
    "\n",
    "Maybe we're just interested in the distribution of \n",
    "IMDB scores. We can create a histogram to see that in \n",
    "detail.\n",
    "Documentation: \n",
    "https://matplotlib.org/devdocs/api/_as_gen/matplotlib.pyplot.hist.html"
   ]
  },
  {
   "cell_type": "code",
   "execution_count": null,
   "metadata": {
    "collapsed": true
   },
   "outputs": [],
   "source": [
    "plt.clf()\n",
    "plt.hist(imdb_score, np.arange(0,10,1))\n",
    "plt.title(\"IMDB Scores Histogram\")\n",
    "plt.xlabel(\"IMDB Score\")\n",
    "plt.ylabel(\"Number of Movies\")\n",
    "plt.show()"
   ]
  },
  {
   "cell_type": "markdown",
   "metadata": {},
   "source": [
    "Or we could do the same thing to understand the \n",
    "distribution of budgets."
   ]
  },
  {
   "cell_type": "code",
   "execution_count": null,
   "metadata": {
    "collapsed": true
   },
   "outputs": [],
   "source": [
    "plt.clf()\n",
    "plt.hist(budget_millions, np.arange(0, 400, 50))\n",
    "plt.title(\"Budgets Histogram\")\n",
    "plt.xlabel(\"Budget (in millions of dollars)\")\n",
    "plt.ylabel(\"Number of Movies\")\n",
    "plt.show()"
   ]
  },
  {
   "cell_type": "markdown",
   "metadata": {},
   "source": [
    "## Exercise:\n",
    "Choose two numerical variables that you find \n",
    "interesting. \n",
    "\n",
    "Make three plots: a scatter plot of the two variables, \n",
    "and a histogram for each of the two variables.\n",
    "\n",
    "For the histogram, try using different values in the \n",
    "np.arange() command so that you can see what a \n",
    "histogram looks like with different bin sizes.\n",
    "\n",
    "If you want to, you can play around with other options \n",
    "by looking at the documentation. You could try to \n",
    "change the color of your plot, for example, or to \n",
    "change the shape of your points in your scatter plot. "
   ]
  },
  {
   "cell_type": "markdown",
   "metadata": {},
   "source": [
    "## Challenge Section: Functions for Exploratory Analysis\n",
    "\n",
    "So we've just done some pretty cool plotting using a \n",
    "real data set. But it may be frustrating to have to \n",
    "type the same commands over and over again whenever\n",
    "you want to do an analysis. Even more importantly, in \n",
    "scientific contexts, if you are comparing data sets, \n",
    "you need to analyze them exactly the same in order\n",
    "to ensure that any differences you may find are due to \n",
    "differences in the data and not due to differences in \n",
    "how you conducted the analysis. We can use functions to\n",
    "fix that problem! Here are a few reminder examples."
   ]
  },
  {
   "cell_type": "code",
   "execution_count": null,
   "metadata": {
    "collapsed": true
   },
   "outputs": [],
   "source": [
    "def find_remaining_cast_likes(actor_1_likes, \n",
    "                              actor_2_likes, \n",
    "                              actor_3_likes, \n",
    "                              total_likes):\n",
    "    \"\"\" This function helps us to find out how many \n",
    "        likes the cast received if you remove the likes \n",
    "        received by the top three actors in a movie.\n",
    "        \n",
    "        Input: actor_1_likes (float), the number of \n",
    "                    likes received by actor 1\n",
    "               actor_2_likes (float), the number of \n",
    "                    likes received by actor 2\n",
    "               actor_3_likes (float), the number of \n",
    "                    likes received by actor 3\n",
    "               total_likes (float), the number of \n",
    "                    likes received by the cast\n",
    "    \"\"\"\n",
    "    \n",
    "    remaining_likes = total_likes - (actor_1_likes \n",
    "                                     + actor_2_likes \n",
    "                                     + actor_3_likes)\n",
    "    \n",
    "    return remaining_likes\n",
    "    \n",
    "\n",
    "a1_likes = imdb_num[:,5]\n",
    "a2_likes = imdb_num[:,12]\n",
    "a3_likes = imdb_num[:,4]\n",
    "total_likes = imdb_num[:,8]\n",
    "\n",
    "find_remaining_cast_likes(a1_likes[27], a2_likes[27], \n",
    "                          a3_likes[27], total_likes[27])"
   ]
  },
  {
   "cell_type": "code",
   "execution_count": null,
   "metadata": {
    "collapsed": true
   },
   "outputs": [],
   "source": [
    "# using our function in a loop\n",
    "for movie in range(len(imdb_num)):\n",
    "    result = find_remaining_cast_likes(a1_likes[movie], \n",
    "                                       a2_likes[movie], \n",
    "                                       a3_likes[movie], \n",
    "                                       total_likes[movie])\n",
    "    print(result)"
   ]
  },
  {
   "cell_type": "markdown",
   "metadata": {},
   "source": [
    "This function is useful, but we can make functions that \n",
    "do entire steps of our data analysis for us! This is \n",
    "very valuable in scientific research. "
   ]
  },
  {
   "cell_type": "code",
   "execution_count": null,
   "metadata": {
    "collapsed": true
   },
   "outputs": [],
   "source": [
    "# do an analysis problem that could be repeated with \n",
    "# new data\n",
    "\n",
    "def exploratory_analysis(column1, column2):\n",
    "    \"\"\" For any two columns, we find the mean, find the \n",
    "        max, find the min, plot\n",
    "        Input:  column1 (list), a column of numerical \n",
    "                    data\n",
    "                column2 (list), a column of numerical \n",
    "                    data\n",
    "        Output: print out values, and plot\n",
    "    \"\"\"\n",
    "    \n",
    "    col1mean = np.mean(column1)\n",
    "    col1max = np.max(column1)\n",
    "    col1min = np.min(column1)\n",
    "    \n",
    "    col2mean = np.mean(column2)\n",
    "    col2max = np.max(column2)\n",
    "    col2min = np.min(column2)\n",
    "    \n",
    "    print(\"The mean of column 1 is: \" + str(col1mean))\n",
    "    print(\"The max of column 1 is: \" + str(col1mean))\n",
    "    print(\"The min of column 1 is: \" + str(col1mean))\n",
    "    \n",
    "    print(\"The mean of column 1 is: \" + str(col1mean))\n",
    "    print(\"The max of column 1 is: \" + str(col1mean))\n",
    "    print(\"The min of column 1 is: \" + str(col1mean))\n",
    "    \n",
    "    plt.scatter(column1, column2)\n",
    "    col1name, col2name = input(\"Which column names? \")\n",
    "    plt.title(col1name + \" vs. \" + col2name)\n",
    "    plt.ylabel(col2name)\n",
    "    plt.xlabel(col1name)\n",
    "    plt.show()\n",
    "    \n",
    "    return"
   ]
  },
  {
   "cell_type": "markdown",
   "metadata": {},
   "source": [
    "## Challenge Exercise: \n",
    "Run this function using two columns you find \n",
    "interesting. \n",
    "\n",
    "How can we improve this function so that it does not \n",
    "rely on user input? How can we improve this function\n",
    "by writing \"helper functions\" that break the function \n",
    "into smaller tasks?"
   ]
  },
  {
   "cell_type": "markdown",
   "metadata": {},
   "source": [
    "## Challenge Exercise: \n",
    "Create a function that compares the IMDB scores of \n",
    "movies created in different years. (Hint: use the \n",
    "analysis we did earlier in this section. But instead \n",
    "of using the years 2013 and 2014 and copying and \n",
    "pasting, write the steps as a function.)\n",
    "\n",
    "Once you've made this function, make a plot of mean \n",
    "IMDB scores vs. year. (You can use the command \n",
    "plt.scatter() that we used earlier, or try using the \n",
    "command plt.plot() which draws lines between the points.)\n",
    "Do you see any interesting trends?"
   ]
  },
  {
   "cell_type": "markdown",
   "metadata": {},
   "source": [
    "Now we have a pretty useful set of tools for data \n",
    "analysis! We can read in our data, plot our data, and \n",
    "write functions to reproduce our analyses for new\n",
    "sets of data. We'll be implementing everything we've \n",
    "learned in the next section, when we will be trying to \n",
    "answer a new set of questions with the IMDB data set. "
   ]
  },
  {
   "cell_type": "markdown",
   "metadata": {},
   "source": [
    "# SciPy Teen Track, Tuesday Session\n",
    "\n",
    "## Introduction\n",
    "\n",
    "We're ready to start our mini-analyses! In this section,\n",
    "we are going to use all the tools we've talked about \n",
    "today in order to understand something about the IMDB\n",
    "data set. You (and your tablemate/group) should find\n",
    "a question that interests you about the data. Some\n",
    "examples include:\n",
    "- Has average length of movies changed over time?\n",
    "- Do more popular movies have bigger budgets?\n",
    "\n",
    "Once you have decided on a question, use all the \n",
    "available resources to answer it. You can plot your \n",
    "data, use NumPy functions to find averages, etc.\n",
    "You are also welcome to look at the Python \n",
    "documentation to see if there are new commands that\n",
    "help you complete your analysis, or better ways to \n",
    "plot your data."
   ]
  }
 ],
 "metadata": {
  "kernelspec": {
   "display_name": "Python 3",
   "language": "python",
   "name": "python3"
  },
  "language_info": {
   "codemirror_mode": {
    "name": "ipython",
    "version": 3
   },
   "file_extension": ".py",
   "mimetype": "text/x-python",
   "name": "python",
   "nbconvert_exporter": "python",
   "pygments_lexer": "ipython3",
   "version": "3.5.2"
  }
 },
 "nbformat": 4,
 "nbformat_minor": 2
}
