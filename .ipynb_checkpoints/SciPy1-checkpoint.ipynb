{
 "cells": [
  {
   "cell_type": "code",
   "execution_count": null,
   "metadata": {
    "collapsed": false
   },
   "outputs": [],
   "source": [
    "#\n",
    "# SciPy Teen Track Morning Session\n",
    "# Part 1 (Before Break)\n",
    "# Emily Quinn Finney\n",
    "#\n",
    "\n",
    "# Introduction\n",
    "\"\"\"\n",
    "Today we are going to review the basics of Python, including some of its\n",
    "special built-in objects. We will also study other SciPy packages useful\n",
    "for data analysis. These include NumPy (\"Numerical Python\"), which helps\n",
    "analyze numerical data with many-dimensional tables called arrays, and\n",
    "matplotlib (\"Matlab Plot Library\"), which helps visualize data with various\n",
    "plotting tools. We will go through examples of Python code, as well as\n",
    "write our own scripts. At the end of the day, we will do a mini-analysis\n",
    "that puts all those skills together.\n",
    "\n",
    "We will have a morning session and an afternoon session, each of which\n",
    "will have a fifteen-minute break in the middle. There is a second fifteen-\n",
    "minute break during the afternoon session, as well.\n",
    "\n",
    "Here's our tentative schedule:\n",
    "9am-10:30am   Introduction to Jupyter Notebooks. Introduction to Python \n",
    "              syntax (data types, if/else statements, indexing, string \n",
    "              slicing). Introduction to importing packages. Brief \n",
    "              introduction to NumPy.\n",
    "\n",
    "10:45am-12pm  Introduction to more advanced data types (dictionaries) \n",
    "              and their functionality. Introduction to for/while\n",
    "              loops and list comprehensions. More practice with NumPy.\n",
    "\n",
    "1:30pm-3pm    Introduction to functions. Introduction to matplotlib.\n",
    "              We'll start to learn what's cool in our IMDB data by\n",
    "              making plots of movie popularity.\n",
    "\n",
    "3:15pm-5pm    Mini-analysis of the IMDB data set.\n",
    "\n",
    "\n",
    "You should have a notepad of Enthought post-it nots. Please take two of them.\n",
    "On one post-it note, draw a smiley face or write \"I'm finished\". On the other,\n",
    "draw a frowning face or write \"I need help.\" As we are going through the \n",
    "material, if you have finished the tutorial task, put your smiley face post-it \n",
    "note in front of you to let me know you're done. If you are confused about\n",
    "the task, put up your frowning post-it note. In addition, if you have a question\n",
    "or for any reason want to talk to someone about the tutorial material, feel\n",
    "free to raise your hand to ask me or one of the tutorial volunteers for\n",
    "assistance. That's what we're here for!\n",
    "\"\"\";"
   ]
  },
  {
   "cell_type": "code",
   "execution_count": null,
   "metadata": {
    "collapsed": false
   },
   "outputs": [],
   "source": [
    "# Introduction to Jupyter Notebooks.\n",
    "\n",
    "\"\"\"\n",
    "Set up computers for the tutorial:\n",
    "Access the files from the link https://github.com/eqfinney/SciPy\n",
    "Click \"clone or download\" in the upper right corner.\n",
    "Click \"download zip\" and wait for the file to download.\n",
    "After you extract the files, you should be able to open them in your \n",
    "Canopy environment.\n",
    "We'll look around at my notebooks, and then try creating our own.\n",
    "\"\"\";\n",
    "# what is a notebook\n",
    "# how to add a cell\n",
    "# how to run a cell\n",
    "# a little bit about Python error messages"
   ]
  },
  {
   "cell_type": "code",
   "execution_count": null,
   "metadata": {
    "collapsed": false
   },
   "outputs": [],
   "source": [
    "# Introduction to basic Python syntax\n",
    "\"\"\"\n",
    "Many of you are already familar with the basic syntax of Python. But we're\n",
    "going to spend this first section reviewing, to make sure everyone is on\n",
    "the same page for later in the day. I learned some new stuff about Python\n",
    "while preparing for this tutorial, so even if you are already familiar\n",
    "with basic Python syntax be on the lookout for cool new tidbits! Again, if\n",
    "you feel lost or stuck, put up a red post-it note or raise your hand. I\n",
    "and the tutorial volunteers are happy to help.\n",
    "\"\"\";\n",
    "\n",
    "# Data types\n",
    "# ints, floats, booleans, strings\n",
    "\"\"\"\n",
    "If you've used a programming language before, you are probably familiar\n",
    "with some of the objects you can use to communicate with your computer.\n",
    "\"\"\";\n",
    "2.0\n",
    "print(type(2.0))\n",
    "\n",
    "2\n",
    "print(type(2))\n",
    "\n",
    "True\n",
    "print(type(True))\n",
    "\n",
    "\"Hi scipy\"\n",
    "print(type(\"Hi scipy\"))"
   ]
  },
  {
   "cell_type": "code",
   "execution_count": null,
   "metadata": {
    "collapsed": false
   },
   "outputs": [],
   "source": [
    "# lists\n",
    "\"\"\"\n",
    "There are also objects that group other objects together.\n",
    "\"\"\";\n",
    "[1,2,3]\n",
    "print(type([1,2,3]))\n",
    "\n",
    "['h','i',' ','s','c','i','p','y']\n",
    "print(type(['h','i',' ','s','c','i','p','y']))"
   ]
  },
  {
   "cell_type": "code",
   "execution_count": null,
   "metadata": {
    "collapsed": false
   },
   "outputs": [],
   "source": [
    "# assigning variables\n",
    "movie_title = \"Batman Begins\"\n",
    "print(movie_title)\n",
    "print(type(movie_title))"
   ]
  },
  {
   "cell_type": "code",
   "execution_count": null,
   "metadata": {
    "collapsed": false
   },
   "outputs": [],
   "source": [
    "\"\"\"\n",
    "Exercise:\n",
    "Form into groups of 2-4 people and introduce yourselves! \n",
    "Take a few minutes to make one or two objects of each data type.\n",
    "Discuss with your group an example of when each data type might be used\n",
    "in the real world. \n",
    "\"\"\";"
   ]
  },
  {
   "cell_type": "code",
   "execution_count": null,
   "metadata": {
    "collapsed": false
   },
   "outputs": [],
   "source": [
    "\"\"\" \n",
    "Exercise:\n",
    "What happens if you try using mathematical operations (like + or -) on\n",
    "different data types? For example, can you add two strings? Can you \n",
    "subtract an int and a float? Try several examples to see what happens.\n",
    "Then (if you aren't already) discuss your findings with your group.\n",
    "\"\"\";"
   ]
  },
  {
   "cell_type": "code",
   "execution_count": null,
   "metadata": {
    "collapsed": false
   },
   "outputs": [],
   "source": [
    "# Concatenating, indexing, slicing\n",
    "\"\"\"\n",
    "So now that we've got types down, I'd like to start using slightly more \n",
    "interesting examples.\n",
    "\"\"\";\n",
    "\n",
    "# concatenating\n",
    "movie_title + \" is awesome!\"\n",
    "print(movie_title + \" is awesome!\")"
   ]
  },
  {
   "cell_type": "code",
   "execution_count": null,
   "metadata": {
    "collapsed": false
   },
   "outputs": [],
   "source": [
    "# indexing\n",
    "movie_title[0]\n",
    "print(movie_title[0])"
   ]
  },
  {
   "cell_type": "code",
   "execution_count": null,
   "metadata": {
    "collapsed": false
   },
   "outputs": [],
   "source": [
    "movie_title[1]\n",
    "print(movie_title[1])"
   ]
  },
  {
   "cell_type": "code",
   "execution_count": null,
   "metadata": {
    "collapsed": false
   },
   "outputs": [],
   "source": [
    "movie_title[-1]\n",
    "print(movie_title[-1])"
   ]
  },
  {
   "cell_type": "code",
   "execution_count": null,
   "metadata": {
    "collapsed": false
   },
   "outputs": [],
   "source": [
    "# slicing\n",
    "print(movie_title[:6])"
   ]
  },
  {
   "cell_type": "code",
   "execution_count": null,
   "metadata": {
    "collapsed": false
   },
   "outputs": [],
   "source": [
    "# finding the length of a string\n",
    "len(movie_title)\n",
    "print(movie_title)\n",
    "print(len(movie_title))"
   ]
  },
  {
   "cell_type": "code",
   "execution_count": null,
   "metadata": {
    "collapsed": false
   },
   "outputs": [],
   "source": [
    "\"\"\"\n",
    "Exercise:\n",
    "Think of a sentence you could use as a string, and assign it to a variable.\n",
    "Then, print that sentence to your screen with no spaces.\n",
    "Finally, find the length of your sentence, with spaces and without spaces.\n",
    "Subtract these two values to find how many spaces your sentence has!\n",
    "\"\"\";"
   ]
  },
  {
   "cell_type": "code",
   "execution_count": null,
   "metadata": {
    "collapsed": false
   },
   "outputs": [],
   "source": [
    "\"\"\"\n",
    "Exercise:\n",
    "It turns out that many of the tricks we can do with strings (indexing, \n",
    "slicing, concatenating, finding the length) are also things we can do with\n",
    "lists! Create a list of your group's favorite movies. Then try:\n",
    "- Indexing the list (for example, finding and printing out just one person's\n",
    "  favorite movie)\n",
    "- Slicing the list (finding and printing out a small section of the list)\n",
    "- Concatenating two lists together\n",
    "- Finding the length of a list\n",
    "\"\"\";"
   ]
  },
  {
   "cell_type": "code",
   "execution_count": null,
   "metadata": {
    "collapsed": true
   },
   "outputs": [],
   "source": [
    "\"\"\"\n",
    "Exercise:\n",
    "Discuss with your group how we might access just one letter of one string\n",
    "in a list of strings. For example, how would we access the letter 'Z' in\n",
    "['potato', 'carrot', 'onion', 'pepper', 'Zucchini', 'celery]?\n",
    "\"\"\";"
   ]
  },
  {
   "cell_type": "code",
   "execution_count": null,
   "metadata": {
    "collapsed": false
   },
   "outputs": [],
   "source": [
    "# If/else\n",
    "# introductory example \n",
    "if name == \"Huaying\":\n",
    "    print(\"Hello Huaying!\")\n",
    "elif name == \"Christian\":\n",
    "    print(\"Hello Christian!\")\n",
    "elif name == \"Jim\":\n",
    "    print(\"Hello Jim!\")\n",
    "else: \n",
    "    print(\"Hello Daniel!\")"
   ]
  },
  {
   "cell_type": "code",
   "execution_count": null,
   "metadata": {
    "collapsed": false
   },
   "outputs": [],
   "source": [
    "# another example\n",
    "\n",
    "name = input(\"What is your name? \")\n",
    "answer = input(\"Are you a Teen Track volunteer? \")\n",
    "\n",
    "if answer == \"yes\":\n",
    "    if name == \"Huaying\":\n",
    "        print(\"Thanks for helping, Huaying!\")\n",
    "    elif name == \"Christian\":\n",
    "        print(\"Thanks for helping, Christian!\")\n",
    "    elif name == \"Jim\":\n",
    "        print(\"Thanks for helping, Jim!\")\n",
    "    elif name == \"Daniel\": \n",
    "        print(\"Thanks for helping, Daniel!\")\n",
    "    else:\n",
    "        print(\"Pleased to meet you!\")\n",
    "else:\n",
    "    print(\"Welcome to the tutorial, \" + name)"
   ]
  },
  {
   "cell_type": "code",
   "execution_count": null,
   "metadata": {
    "collapsed": false
   },
   "outputs": [],
   "source": [
    "# another example, but with animals and movies this time\n",
    "\n",
    "answer = input(\"What is your favorite animal? \")\n",
    "length = len(answer)\n",
    "if answer[1:length] == \"at\":\n",
    "    print(\"Your favorite movie must be \" + str(answer) + \"man!\")\n",
    "elif answer == \"spider\":\n",
    "    print(\"Your favorite movie must be \" + str(answer) + \"man!\")\n",
    "else:\n",
    "    print(\"I don't think you even like movies.\")"
   ]
  },
  {
   "cell_type": "code",
   "execution_count": null,
   "metadata": {
    "collapsed": false
   },
   "outputs": [],
   "source": [
    "\"\"\"\n",
    "Exercise:\n",
    "Create a VERY short choose-your-own-adventure game!\n",
    "Let the user make up to two choices before the game ends. \n",
    "For example, you could start the game by printing a few sentences of a story,\n",
    "and then ask the user what to do using the command input().\n",
    "The next step of the story depends on the user's answer.\n",
    "\"\"\";"
   ]
  },
  {
   "cell_type": "code",
   "execution_count": null,
   "metadata": {
    "collapsed": false
   },
   "outputs": [],
   "source": [
    "# Importing packages\n",
    "\"\"\"\n",
    "A package is a collection of Python operations that go above and\n",
    "beyond what you might use in every program. For instance, I may not need to\n",
    "calculate a square root every day. But if I do, I can use the math package.\n",
    "\"\"\";\n",
    "import math\n",
    "print(math.sqrt(9))"
   ]
  },
  {
   "cell_type": "code",
   "execution_count": null,
   "metadata": {
    "collapsed": false
   },
   "outputs": [],
   "source": [
    "from math import sqrt\n",
    "print(sqrt(9))"
   ]
  },
  {
   "cell_type": "code",
   "execution_count": null,
   "metadata": {
    "collapsed": false
   },
   "outputs": [],
   "source": [
    "import math as m\n",
    "print(m.sqrt(9))"
   ]
  },
  {
   "cell_type": "code",
   "execution_count": null,
   "metadata": {
    "collapsed": false
   },
   "outputs": [],
   "source": [
    "from math import sqrt as sq\n",
    "print(sq(9))"
   ]
  },
  {
   "cell_type": "code",
   "execution_count": null,
   "metadata": {
    "collapsed": false,
    "scrolled": true
   },
   "outputs": [],
   "source": [
    "\"\"\"\n",
    "Later in this tutorial, we are going to be working with numerical data \n",
    "about movies (like the movie's budget, average IMDB score, number of\n",
    "Facebook likes, etc.) When we want to store numerical data in a table,\n",
    "one of the best packages to use is NumPy, which stands for Numerical\n",
    "Python. So we're going to import the NumPy package and spend the rest\n",
    "of our time in this section of the tutorial playing with NumPy data\n",
    "types.\n",
    "\"\"\";\n",
    "\n",
    "import numpy as np\n",
    "\n",
    "\"\"\"\n",
    "We load a NumPy table by using the loadtxt command. The documentation \n",
    "is here: https://docs.scipy.org/doc/numpy/reference/generated/numpy.loadtxt.html\n",
    "There are various options we can use to load the text; we will use the\n",
    "sep = ' ' option because that tells NumPy to interpret spaces as \n",
    "ways to delineate new columns in our table.\n",
    "\"\"\";\n",
    "table = np.loadtxt('imdb_numerical.txt')"
   ]
  },
  {
   "cell_type": "code",
   "execution_count": null,
   "metadata": {
    "collapsed": false
   },
   "outputs": [],
   "source": [
    "# NumPy rows\n",
    "print(table[0])"
   ]
  },
  {
   "cell_type": "code",
   "execution_count": null,
   "metadata": {
    "collapsed": false
   },
   "outputs": [],
   "source": [
    "# NumPy columns\n",
    "print(table[:,0])"
   ]
  },
  {
   "cell_type": "code",
   "execution_count": null,
   "metadata": {
    "collapsed": false
   },
   "outputs": [],
   "source": [
    "# accessing a single element\n",
    "data_point = table[5,3]\n",
    "print(data_point)"
   ]
  },
  {
   "cell_type": "code",
   "execution_count": null,
   "metadata": {
    "collapsed": true
   },
   "outputs": [],
   "source": [
    "\"\"\"\n",
    "You may be wondering: how exactly do we know what columns are what? \n",
    "The short answer is, NumPy doesn't have a very straightforward way \n",
    "to label columns. (There is another package, Pandas, that is great for\n",
    "this, but we won't have time to cover it.) Use your text editor to \n",
    "open up the file 'imdb_numerical.txt' and read the first line of the \n",
    "file to get the column names. In the future, we may choose to name \n",
    "individual columns so we don't have to remember that column 0 is the \n",
    "budget, for instance.\n",
    "\"\"\";\n",
    "\n",
    "id = table[:,0]\n",
    "num_critic_for_reviews = table[:,1]\n",
    "# etc."
   ]
  },
  {
   "cell_type": "code",
   "execution_count": null,
   "metadata": {
    "collapsed": false
   },
   "outputs": [],
   "source": [
    "\"\"\"\n",
    "That's all we'll go over for now. We'll have lots more time to use NumPy.\n",
    "In the next section, we'll talk about how to add and remove items from \n",
    "lists, and we'll learn about a new data type, dictionaries. We'll also \n",
    "learn how to create loops, which allow us to quickly perform commands \n",
    "on a lot of data. \n",
    "\"\"\";"
   ]
  }
 ],
 "metadata": {
  "kernelspec": {
   "display_name": "Python 3",
   "language": "python",
   "name": "python3"
  },
  "language_info": {
   "codemirror_mode": {
    "name": "ipython",
    "version": 3
   },
   "file_extension": ".py",
   "mimetype": "text/x-python",
   "name": "python",
   "nbconvert_exporter": "python",
   "pygments_lexer": "ipython3",
   "version": "3.6.0"
  }
 },
 "nbformat": 4,
 "nbformat_minor": 2
}
