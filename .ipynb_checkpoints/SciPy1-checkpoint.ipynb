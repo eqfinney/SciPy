{
 "cells": [
  {
   "cell_type": "code",
   "execution_count": null,
   "metadata": {
    "collapsed": true
   },
   "outputs": [],
   "source": [
    "#\n",
    "# SciPy Teen Track Morning Session\n",
    "# Part 1 (Before Break)\n",
    "# Emily Quinn Finney\n",
    "#\n",
    "\n",
    "# Introduction\n",
    "# Time estimate: 10 min\n",
    "\"\"\"\n",
    "Today we are going to review the basics of Python, including some of its\n",
    "special built-in objects. We will also study other SciPy packages useful\n",
    "for data analysis. These include NumPy (\"Numerical Python\"), which helps\n",
    "analyze numerical data with many-dimensional tables called arrays, and\n",
    "matplotlib (\"Matlab Plot Library\"), which helps visualize data with various\n",
    "plotting tools. We will go through examples of Python code, as well as\n",
    "write our own scripts. At the end of the day, we will do a mini-analysis\n",
    "that puts all those skills together.\n",
    "\n",
    "We will have a morning session and an afternoon session, each of which\n",
    "will have a fifteen-minute break in the middle. Bathrooms are located _,\n",
    "and please no eating and drinking in the conference room(?).\n",
    "\n",
    "Here's our tentative schedule:\n",
    "9am-10:30am   Introduction to Jupyter Notebooks. Introduction to basic\n",
    "              Python syntax (data types, if/else statements, for/while\n",
    "              loops, indexing, string slicing). \n",
    "\n",
    "10:45am-12pm  Introduction to more advanced data types (dictionaries,\n",
    "              lists, sets) and their functionality. Introduction to\n",
    "              importing packages. Brief introduction to NumPy. \n",
    "\n",
    "1:30pm-3pm    Introduction to functions. Introduction to matplotlib.\n",
    "              We'll start to learn what's cool in our IMDB data by\n",
    "              making plots of movie popularity.\n",
    "\n",
    "3:15pm-5pm    Mini-analysis of the IMDB data set.\n",
    "\n",
    "\n",
    "I have given each person a green post-it note and a red post-it note. As\n",
    "we are going through the material, if you have finished the tutorial task,\n",
    "put up your green post-it note to let me know. If you are confused about\n",
    "the task, put up your red post-it note. In addition, if you have a question\n",
    "or for any reason want to talk to someone about the tutorial material, feel\n",
    "free to raise your hand to ask me or one of the tutorial volunteers for\n",
    "assistance. That's what we're here for!\n",
    "\"\"\""
   ]
  },
  {
   "cell_type": "code",
   "execution_count": null,
   "metadata": {
    "collapsed": true
   },
   "outputs": [],
   "source": [
    "# Introduction to Jupyter Notebooks.\n",
    "# Time estimate: 10 min\n",
    "\n",
    "\"\"\"\n",
    "Here I'll have them set up their computers for the tutorial. Access the \n",
    "files (via a URL on github) and then start jupyter notebook from their \n",
    "Canopy environments. Make sure everything is running smoothly. Explain \n",
    "a little bit about what a notebook is/does, and how to run basic commands\n",
    "(like adding a new cell, running a cell, etc.)\n",
    "\"\"\""
   ]
  },
  {
   "cell_type": "code",
   "execution_count": null,
   "metadata": {
    "collapsed": true
   },
   "outputs": [],
   "source": [
    "# Introduction to basic Python syntax\n",
    "\"\"\"\n",
    "Many of you are already familar with the basic syntax of Python. But we're\n",
    "going to spend this first section reviewing, to make sure everyone is on\n",
    "the same page for later in the day. I learned some new stuff about Python\n",
    "while preparing for this tutorial, so even if you are already familiar\n",
    "with basic Python syntax be on the lookout for cool new tidbits! Again, if\n",
    "you feel lost or stuck, put up a red post-it note or raise your hand. I\n",
    "and the tutorial volunteers are happy to help.\n",
    "\"\"\"\n",
    "\n",
    "# Data types\n",
    "# Time estimate: 10 min\n",
    "# ints, floats, booleans, strings (won't mention long, complex)\n",
    "\"\"\"\n",
    "If you've used a programming language before, you are probably familiar\n",
    "with some of the objects you can use to communicate with your computer.\n",
    "\"\"\"\n",
    "2.0\n",
    "print(type(2.0))\n",
    "\n",
    "2\n",
    "print(type(2))\n",
    "\n",
    "True\n",
    "print(type(True))\n",
    "\n",
    "\"Hi scipy\"\n",
    "print(type(\"Hi scipy\"))"
   ]
  },
  {
   "cell_type": "code",
   "execution_count": null,
   "metadata": {
    "collapsed": true
   },
   "outputs": [],
   "source": [
    "# lists\n",
    "\"\"\"\n",
    "There are also objects that group other objects together.\n",
    "\"\"\"\n",
    "[1,2,3]\n",
    "print(type([1,2,3]))\n",
    "\n",
    "['h','i',' ','s','c','i','p','y']\n",
    "print(type(['h','i',' ','s','c','i','p','y']))"
   ]
  },
  {
   "cell_type": "code",
   "execution_count": null,
   "metadata": {
    "collapsed": true
   },
   "outputs": [],
   "source": [
    "# assigning variables\n",
    "movie_title = \"Batman Begins\"\n",
    "print(movie_title)\n",
    "print(type(movie_title))\n",
    "\n",
    "\"\"\"\n",
    "Here have them do a few minutes of examples with types, perhaps involving\n",
    "the Davis farmers' market because that is ridiculous.\n",
    "\"\"\""
   ]
  },
  {
   "cell_type": "code",
   "execution_count": 62,
   "metadata": {
    "collapsed": false
   },
   "outputs": [
    {
     "ename": "NameError",
     "evalue": "name 'movie_title' is not defined",
     "output_type": "error",
     "traceback": [
      "\u001b[0;31m---------------------------------------------------------------------------\u001b[0m",
      "\u001b[0;31mNameError\u001b[0m                                 Traceback (most recent call last)",
      "\u001b[0;32m<ipython-input-62-c6f72a80d289>\u001b[0m in \u001b[0;36m<module>\u001b[0;34m()\u001b[0m\n\u001b[1;32m      8\u001b[0m \u001b[0;34m\u001b[0m\u001b[0m\n\u001b[1;32m      9\u001b[0m \u001b[0;31m# indexing\u001b[0m\u001b[0;34m\u001b[0m\u001b[0;34m\u001b[0m\u001b[0m\n\u001b[0;32m---> 10\u001b[0;31m \u001b[0mmovie_title\u001b[0m\u001b[0;34m[\u001b[0m\u001b[0;36m0\u001b[0m\u001b[0;34m]\u001b[0m\u001b[0;34m\u001b[0m\u001b[0m\n\u001b[0m\u001b[1;32m     11\u001b[0m \u001b[0mprint\u001b[0m\u001b[0;34m(\u001b[0m\u001b[0mmovie_title\u001b[0m\u001b[0;34m[\u001b[0m\u001b[0;36m0\u001b[0m\u001b[0;34m]\u001b[0m\u001b[0;34m)\u001b[0m\u001b[0;34m\u001b[0m\u001b[0m\n\u001b[1;32m     12\u001b[0m \u001b[0;34m\u001b[0m\u001b[0m\n",
      "\u001b[0;31mNameError\u001b[0m: name 'movie_title' is not defined"
     ]
    }
   ],
   "source": [
    "# Concatenating, indexing, slicing\n",
    "# Time estimate: 20 min\n",
    "\"\"\"\n",
    "So now that we've got types down, I'd like to start using slightly more \n",
    "\"\"\"\n",
    "\n",
    "# indexing\n",
    "movie_title[0]\n",
    "print(movie_title[0])\n",
    "\n",
    "movie_title[1]\n",
    "print(movie_title[1])\n",
    "\n",
    "movie_title[-1]\n",
    "print(movie_title[-1])\n",
    "\n",
    "# slicing (introduce len)\n",
    "print(movie_title[:6])\n",
    "\n",
    "# adding strings and numbers etc."
   ]
  },
  {
   "cell_type": "code",
   "execution_count": 65,
   "metadata": {
    "collapsed": false
   },
   "outputs": [
    {
     "name": "stdout",
     "output_type": "stream",
     "text": [
      "What is your favorite animal? Bat\n",
      "Your favorite movie must be Batman!\n"
     ]
    },
    {
     "data": {
      "text/plain": [
       "'\\nHave them practice, with examples.\\n'"
      ]
     },
     "execution_count": 65,
     "metadata": {},
     "output_type": "execute_result"
    }
   ],
   "source": [
    "# If/else\n",
    "# Time estimate: 10 min\n",
    "# create a more introductory example\n",
    "answer = input(\"What is your favorite animal? \")\n",
    "length = len(answer)\n",
    "if answer[1:length] == \"at\":\n",
    "    print(\"Your favorite movie must be \" + str(answer) + \"man!\")\n",
    "elif answer == \"spider\":\n",
    "    print(\"Your favorite movie must be \" + str(answer) + \"man!\")\n",
    "else:\n",
    "    print(\"I don't think you even like movies.\")\n",
    "\n",
    "\"\"\"\n",
    "Have them practice, with examples.\n",
    "\"\"\""
   ]
  },
  {
   "cell_type": "code",
   "execution_count": null,
   "metadata": {
    "collapsed": true
   },
   "outputs": [],
   "source": [
    "# Importing packages\n",
    "# Time estimate: 10 min\n",
    "\"\"\"\n",
    "There are also outside packages that do even cooler operations on lists, sets,\n",
    "and dicts. A package is a collection of Python operations that go above and\n",
    "beyond what you might use in every program. For instance, I may not need to\n",
    "calculate a square root every day. But if I do, I can use the math package.\n",
    "\"\"\"\n",
    "import math\n",
    "print(math.sqrt(9))\n",
    "\n",
    "\"\"\"\n",
    "If I don't want to type a long name in front of my function every time I use\n",
    "it, I can do this:\n",
    "\"\"\"\n",
    "from math import sqrt\n",
    "print(sqrt(9))\n",
    "\n",
    "\"\"\"\n",
    "If I always want to know where my package comes from, here's another thing\n",
    "I can do:\n",
    "\"\"\"\n",
    "import math as m\n",
    "print(m.sqrt(9))\n",
    "\n",
    "\"\"\"\n",
    "Or:\n",
    "\"\"\"\n",
    "from math import sqrt as sq\n",
    "print(sq(9))\n",
    "\n",
    "\"\"\"\n",
    "Here's some other cool packages. Have them do examples with random.\n",
    "\"\"\""
   ]
  },
  {
   "cell_type": "code",
   "execution_count": 57,
   "metadata": {
    "collapsed": false,
    "scrolled": true
   },
   "outputs": [],
   "source": [
    "\"\"\"\n",
    "Later in this tutorial, we are going to be working with numerical data \n",
    "about movies (like the movie's budget, average IMDB score, number of\n",
    "Facebook likes, etc.) When we want to store numerical data in a table,\n",
    "one of the best packages to use is NumPy, which stands for Numerical\n",
    "Python. So we're going to import the NumPy package and spend the rest\n",
    "of our time in this section of the tutorial playing with NumPy data\n",
    "types.\n",
    "\"\"\"\n",
    "\n",
    "import numpy as np\n",
    "\n",
    "\"\"\"\n",
    "We load a NumPy table by using the loadtxt command. The documentation \n",
    "is here: https://docs.scipy.org/doc/numpy/reference/generated/numpy.loadtxt.html\n",
    "There are various options we can use to load the text; we will use the\n",
    "sep = ' ' option because that tells NumPy to interpret spaces as \n",
    "ways to delineate new columns in our table.\n",
    "\"\"\"\n",
    "table = np.loadtxt('imdb_numerical.txt')"
   ]
  },
  {
   "cell_type": "code",
   "execution_count": 61,
   "metadata": {
    "collapsed": false
   },
   "outputs": [
    {
     "name": "stdout",
     "output_type": "stream",
     "text": [
      "[  0.00000000e+00   7.23000000e+02   1.78000000e+02   0.00000000e+00\n",
      "   8.55000000e+02   1.00000000e+03   7.60505847e+08   8.86204000e+05\n",
      "   4.83400000e+03   3.05400000e+03   2.37000000e+08   2.00900000e+03\n",
      "   9.36000000e+02   7.90000000e+00   3.30000000e+04]\n",
      "[  0.00000000e+00   1.00000000e+00   3.00000000e+00 ...,   5.03500000e+03\n",
      "   5.03700000e+03   5.04200000e+03]\n",
      "15.0\n"
     ]
    }
   ],
   "source": [
    "# NumPy rows\n",
    "print(table[0])\n",
    "\n",
    "# NumPy columns\n",
    "print(table[:,0])\n",
    "\n",
    "# accessing a single element\n",
    "data_point = table[5,3]\n",
    "print(data_point)\n",
    "\n",
    "\"\"\"\n",
    "You may be wondering: how exactly do we know what columns are what? \n",
    "The short answer is, NumPy doesn't have a very straightforward way \n",
    "to label columns. (There is another package, Pandas, that is great for\n",
    "this, but we won't have time to cover it.) Use your text editor to \n",
    "open up the file 'imdb_numerical.txt' and read the first line of the \n",
    "file to get the column names. In the future, we may choose to name \n",
    "individual columns so we don't have to remember that column 0 is the \n",
    "budget, for instance.\n",
    "\"\"\"\n",
    "\n",
    "id = table[:,0]\n",
    "num_critic_for_reviews = table[:,1]\n",
    "# etc."
   ]
  },
  {
   "cell_type": "code",
   "execution_count": null,
   "metadata": {
    "collapsed": true
   },
   "outputs": [],
   "source": [
    "\"\"\"\n",
    "That's all we'll go over for now. In the next section, we'll talk about\n",
    "how to add and remove items from lists, and we'll learn about a new data\n",
    "type, dictionaries. We'll also learn how to create loops, which allow us\n",
    "to perform an operation on a lot of data quickly. \n",
    "\"\"\""
   ]
  }
 ],
 "metadata": {
  "kernelspec": {
   "display_name": "Python 3",
   "language": "python",
   "name": "python3"
  },
  "language_info": {
   "codemirror_mode": {
    "name": "ipython",
    "version": 3
   },
   "file_extension": ".py",
   "mimetype": "text/x-python",
   "name": "python",
   "nbconvert_exporter": "python",
   "pygments_lexer": "ipython3",
   "version": "3.6.0"
  }
 },
 "nbformat": 4,
 "nbformat_minor": 2
}
